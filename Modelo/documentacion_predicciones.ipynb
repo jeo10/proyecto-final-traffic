{
 "cells": [
  {
   "cell_type": "markdown",
   "metadata": {},
   "source": [
    "## Documentacion modelo de prediccion, cross validate y matriz de confusion"
   ]
  },
  {
   "cell_type": "code",
   "execution_count": 8,
   "metadata": {},
   "outputs": [],
   "source": [
    "import pandas as pd\n",
    "import numpy as np\n",
    "from sklearn.preprocessing import LabelEncoder\n",
    "from sklearn.model_selection import train_test_split\n",
    "from sklearn.tree import DecisionTreeClassifier\n",
    "import seaborn as sns\n",
    "from sklearn.metrics import accuracy_score\n",
    "import matplotlib.pyplot as plt\n",
    "from sklearn.model_selection import cross_validate\n",
    "import matplotlib.pyplot as plt"
   ]
  },
  {
   "cell_type": "markdown",
   "metadata": {},
   "source": [
    "Resultados cross_validate"
   ]
  },
  {
   "cell_type": "code",
   "execution_count": 4,
   "metadata": {},
   "outputs": [],
   "source": [
    "def le_aux(row):\n",
    "    if row <= 200: \n",
    "        return 0\n",
    "    elif ((row > 200) & (row <= 400)):\n",
    "        # print(\"hola\")\n",
    "        return 1\n",
    "    elif ((row > 400) & (row <= 600)):\n",
    "        # print(\"hola\")\n",
    "        return 2\n",
    "    elif ((row > 600) & (row <= 900)):\n",
    "        # print(\"hola\")\n",
    "        return 3\n",
    "    elif row > 900:\n",
    "        # print(\"hola\")\n",
    "        return 4\n",
    "\n",
    "def crear_modelo():\n",
    "    df19 = pd.read_csv(r\"C:\\Users\\franc\\OneDrive\\Documentos\\Henry\\proyectos\\PROYECTO_GRUPAL\\SEMANA 4\\traffic_19_modelo.csv\")\n",
    "    df18 = pd.read_csv(r\"C:\\Users\\franc\\OneDrive\\Documentos\\Henry\\proyectos\\PROYECTO_GRUPAL\\SEMANA 4\\traffic_18_modelo.csv\")\n",
    "    df = pd.concat([df18, df19])\n",
    "    df = df[[\"Boro\", \"HH\", \"street\", \"Vol\"]]\n",
    "    le = LabelEncoder()\n",
    "    df[\"Boro_le\"] = le.fit_transform(df.Boro)\n",
    "    df[\"street_le\"] = le.fit_transform(df.street)\n",
    "    df[\"Vol_le\"] = df[\"Vol\"].apply(lambda x: le_aux(x))\n",
    "    tree = DecisionTreeClassifier()\n",
    "    X = df[[\"HH\", \"Boro_le\", \"street_le\"]].values\n",
    "    y = df[\"Vol_le\"].values\n",
    "    y = y.reshape(-1, 1)\n",
    "\n",
    "    # X_train, X_test, y_train, y_test = train_test_split(X, y, test_size = 0.33, stratify = y)\n",
    "\n",
    "    # tree.fit(X_train, y_train)\n",
    "\n",
    "    tree_scores = cross_validate(tree, X, y, cv = 5, scoring = \"accuracy\")\n",
    "\n",
    "    return tree, df, tree_scores"
   ]
  },
  {
   "cell_type": "code",
   "execution_count": 5,
   "metadata": {},
   "outputs": [
    {
     "name": "stdout",
     "output_type": "stream",
     "text": [
      "{'fit_time': array([8.06180358, 7.85499883, 7.4254086 , 7.6314621 , 7.66300631]), 'score_time': array([0.15503693, 0.14803314, 0.15003443, 0.150033  , 0.15303493]), 'test_score': array([0.90267856, 0.90318614, 0.90578696, 0.90416867, 0.90300596])}\n"
     ]
    }
   ],
   "source": [
    "tree, df, tree_scores = crear_modelo()\n",
    "print(tree_scores)"
   ]
  },
  {
   "cell_type": "markdown",
   "metadata": {},
   "source": [
    "Resultados matriz de confusion"
   ]
  },
  {
   "cell_type": "code",
   "execution_count": 6,
   "metadata": {},
   "outputs": [],
   "source": [
    "def le_aux(row):\n",
    "    if row <= 200: \n",
    "        return 0\n",
    "    elif ((row > 200) & (row <= 400)):\n",
    "        # print(\"hola\")\n",
    "        return 1\n",
    "    elif ((row > 400) & (row <= 600)):\n",
    "        # print(\"hola\")\n",
    "        return 2\n",
    "    elif ((row > 600) & (row <= 900)):\n",
    "        # print(\"hola\")\n",
    "        return 3\n",
    "    elif row > 900:\n",
    "        # print(\"hola\")\n",
    "        return 4\n",
    "\n",
    "def crear_modelo():\n",
    "    df19 = pd.read_csv(r\"C:\\Users\\franc\\OneDrive\\Documentos\\Henry\\proyectos\\PROYECTO_GRUPAL\\SEMANA 4\\traffic_19_modelo.csv\")\n",
    "    df18 = pd.read_csv(r\"C:\\Users\\franc\\OneDrive\\Documentos\\Henry\\proyectos\\PROYECTO_GRUPAL\\SEMANA 4\\traffic_18_modelo.csv\")\n",
    "    df = pd.concat([df18, df19])\n",
    "    df = df[[\"Boro\", \"HH\", \"street\", \"Vol\"]]\n",
    "    le = LabelEncoder()\n",
    "    df[\"Boro_le\"] = le.fit_transform(df.Boro)\n",
    "    df[\"street_le\"] = le.fit_transform(df.street)\n",
    "    df[\"Vol_le\"] = df[\"Vol\"].apply(lambda x: le_aux(x))\n",
    "    tree = DecisionTreeClassifier()\n",
    "    X = df[[\"HH\", \"Boro_le\", \"street_le\"]].values\n",
    "    y = df[\"Vol_le\"].values\n",
    "    y = y.reshape(-1, 1)\n",
    "\n",
    "    X_train, X_test, y_train, y_test = train_test_split(X, y, test_size = 0.33, stratify = y)\n",
    "\n",
    "    tree.fit(X_train, y_train)\n",
    "\n",
    "    # tree_scores = cross_validate(tree, X, y, cv = 5, scoring = \"accuracy\")\n",
    "\n",
    "    return tree, X_test, y_test"
   ]
  },
  {
   "cell_type": "code",
   "execution_count": 10,
   "metadata": {},
   "outputs": [
    {
     "data": {
      "text/plain": [
       "<Figure size 720x720 with 0 Axes>"
      ]
     },
     "execution_count": 10,
     "metadata": {},
     "output_type": "execute_result"
    },
    {
     "data": {
      "image/png": "[encoded data removed]",
      "text/plain": [
       "<Figure size 720x360 with 1 Axes>"
      ]
     },
     "metadata": {
      "needs_background": "light"
     },
     "output_type": "display_data"
    },
    {
     "data": {
      "text/plain": [
       "<Figure size 720x720 with 0 Axes>"
      ]
     },
     "metadata": {},
     "output_type": "display_data"
    }
   ],
   "source": [
    "tree, X_test, y_test = crear_modelo()\n",
    "y_pred = tree.predict(X_test)\n",
    "\n",
    "# Matriz de confusión \n",
    "from sklearn.metrics import confusion_matrix, classification_report\n",
    "cm = confusion_matrix(y_test, y_pred)\n",
    "\n",
    "fig, ax = plt.subplots(figsize=(10,5))\n",
    "ax.matshow(cm)\n",
    "plt.title('Matriz de Confusión', fontsize=20)\n",
    "plt.ylabel('Etiqueta Verdadera', fontsize=15)\n",
    "plt.xlabel('Etiqueta Predicha', fontsize=15)\n",
    "for (i, j), z in np.ndenumerate(cm):\n",
    "    ax.text(j, i, '{:0.1f}'.format(z), ha='center', va='center')\n",
    "\n",
    "plt.figure(figsize = (10, 10))"
   ]
  }
 ],
 "metadata": {
  "kernelspec": {
   "display_name": "Python 3.9.13 64-bit (microsoft store)",
   "language": "python",
   "name": "python3"
  },
  "language_info": {
   "codemirror_mode": {
    "name": "ipython",
    "version": 3
   },
   "file_extension": ".py",
   "mimetype": "text/x-python",
   "name": "python",
   "nbconvert_exporter": "python",
   "pygments_lexer": "ipython3",
   "version": "3.9.13"
  },
  "orig_nbformat": 4,
  "vscode": {
   "interpreter": {
    "hash": "6e91d7251fb344e996def3e92284d431619133ca817cffa03ab54840799a3500"
   }
  }
 },
 "nbformat": 4,
 "nbformat_minor": 2
}
