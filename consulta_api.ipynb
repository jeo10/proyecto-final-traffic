{
 "cells": [
  {
   "cell_type": "markdown",
   "metadata": {},
   "source": [
    "#### 2 PARA CONSUMIR LOS DATOS DE LAS APIS CREADAS."
   ]
  },
  {
   "cell_type": "code",
   "execution_count": 4,
   "metadata": {},
   "outputs": [],
   "source": [
    "import requests\n",
    "import pandas as pd\n",
    "import json"
   ]
  },
  {
   "cell_type": "code",
   "execution_count": 5,
   "metadata": {},
   "outputs": [
    {
     "data": {
      "text/html": [
       "<div>\n",
       "<style scoped>\n",
       "    .dataframe tbody tr th:only-of-type {\n",
       "        vertical-align: middle;\n",
       "    }\n",
       "\n",
       "    .dataframe tbody tr th {\n",
       "        vertical-align: top;\n",
       "    }\n",
       "\n",
       "    .dataframe thead th {\n",
       "        text-align: right;\n",
       "    }\n",
       "</style>\n",
       "<table border=\"1\" class=\"dataframe\">\n",
       "  <thead>\n",
       "    <tr style=\"text-align: right;\">\n",
       "      <th></th>\n",
       "      <th>periodo</th>\n",
       "      <th>qty_apparent_death</th>\n",
       "      <th>qty_conscious</th>\n",
       "      <th>qty_does_not_apply</th>\n",
       "      <th>qty_incoherent</th>\n",
       "      <th>qty_semiconscious</th>\n",
       "      <th>qty_shock</th>\n",
       "      <th>qty_unconscious</th>\n",
       "      <th>qty_unknown</th>\n",
       "      <th>qty_total</th>\n",
       "    </tr>\n",
       "  </thead>\n",
       "  <tbody>\n",
       "    <tr>\n",
       "      <th>0</th>\n",
       "      <td>2016/03</td>\n",
       "      <td>8</td>\n",
       "      <td>14675</td>\n",
       "      <td>29651</td>\n",
       "      <td>19</td>\n",
       "      <td>26</td>\n",
       "      <td>115</td>\n",
       "      <td>25</td>\n",
       "      <td>470</td>\n",
       "      <td>44989</td>\n",
       "    </tr>\n",
       "    <tr>\n",
       "      <th>1</th>\n",
       "      <td>2016/04</td>\n",
       "      <td>16</td>\n",
       "      <td>20624</td>\n",
       "      <td>55709</td>\n",
       "      <td>33</td>\n",
       "      <td>44</td>\n",
       "      <td>167</td>\n",
       "      <td>44</td>\n",
       "      <td>375</td>\n",
       "      <td>77012</td>\n",
       "    </tr>\n",
       "    <tr>\n",
       "      <th>2</th>\n",
       "      <td>2016/05</td>\n",
       "      <td>11</td>\n",
       "      <td>5323</td>\n",
       "      <td>81488</td>\n",
       "      <td>22</td>\n",
       "      <td>39</td>\n",
       "      <td>79</td>\n",
       "      <td>28</td>\n",
       "      <td>194</td>\n",
       "      <td>87184</td>\n",
       "    </tr>\n",
       "    <tr>\n",
       "      <th>3</th>\n",
       "      <td>2016/06</td>\n",
       "      <td>24</td>\n",
       "      <td>5323</td>\n",
       "      <td>83639</td>\n",
       "      <td>24</td>\n",
       "      <td>43</td>\n",
       "      <td>102</td>\n",
       "      <td>45</td>\n",
       "      <td>176</td>\n",
       "      <td>89376</td>\n",
       "    </tr>\n",
       "    <tr>\n",
       "      <th>4</th>\n",
       "      <td>2016/07</td>\n",
       "      <td>20</td>\n",
       "      <td>5385</td>\n",
       "      <td>80059</td>\n",
       "      <td>14</td>\n",
       "      <td>37</td>\n",
       "      <td>120</td>\n",
       "      <td>34</td>\n",
       "      <td>161</td>\n",
       "      <td>85830</td>\n",
       "    </tr>\n",
       "  </tbody>\n",
       "</table>\n",
       "</div>"
      ],
      "text/plain": [
       "   periodo  qty_apparent_death  qty_conscious  qty_does_not_apply  \\\n",
       "0  2016/03                   8          14675               29651   \n",
       "1  2016/04                  16          20624               55709   \n",
       "2  2016/05                  11           5323               81488   \n",
       "3  2016/06                  24           5323               83639   \n",
       "4  2016/07                  20           5385               80059   \n",
       "\n",
       "   qty_incoherent  qty_semiconscious  qty_shock  qty_unconscious  qty_unknown  \\\n",
       "0              19                 26        115               25          470   \n",
       "1              33                 44        167               44          375   \n",
       "2              22                 39         79               28          194   \n",
       "3              24                 43        102               45          176   \n",
       "4              14                 37        120               34          161   \n",
       "\n",
       "   qty_total  \n",
       "0      44989  \n",
       "1      77012  \n",
       "2      87184  \n",
       "3      89376  \n",
       "4      85830  "
      ]
     },
     "execution_count": 5,
     "metadata": {},
     "output_type": "execute_result"
    }
   ],
   "source": [
    "\n",
    "url = \"http://vps-2671696-x.dattaweb.com:8000/collision/status/\"\n",
    "response = requests.get(url)\n",
    "aux = json.dumps(response.json()['data'])\n",
    "df = pd.read_json(aux)\n",
    "df.head()"
   ]
  },
  {
   "cell_type": "code",
   "execution_count": null,
   "metadata": {},
   "outputs": [],
   "source": []
  }
 ],
 "metadata": {
  "kernelspec": {
   "display_name": "Python 3.10.5 64-bit",
   "language": "python",
   "name": "python3"
  },
  "language_info": {
   "codemirror_mode": {
    "name": "ipython",
    "version": 3
   },
   "file_extension": ".py",
   "mimetype": "text/x-python",
   "name": "python",
   "nbconvert_exporter": "python",
   "pygments_lexer": "ipython3",
   "version": "3.10.5"
  },
  "orig_nbformat": 4,
  "vscode": {
   "interpreter": {
    "hash": "2662dc78f6b43a79706dc0dcf78b7e7b993f28cb3da5f2e9fa55122a788f3088"
   }
  }
 },
 "nbformat": 4,
 "nbformat_minor": 2
}
