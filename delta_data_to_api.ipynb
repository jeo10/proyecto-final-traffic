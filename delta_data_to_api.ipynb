{
 "cells": [
  {
   "cell_type": "markdown",
   "metadata": {},
   "source": [
    "#### 1 AGREGANDO UN DELTA DE DATOS."
   ]
  },
  {
   "cell_type": "code",
   "execution_count": 1,
   "metadata": {},
   "outputs": [],
   "source": [
    "import pymysql\n",
    "import pymysql.cursors"
   ]
  },
  {
   "cell_type": "code",
   "execution_count": 2,
   "metadata": {},
   "outputs": [
    {
     "name": "stdout",
     "output_type": "stream",
     "text": [
      "(1029, 'MANHATTAN', 2025, 5, 999)\n"
     ]
    }
   ],
   "source": [
    "# Connect to the database\n",
    "connection = pymysql.connect(host='66.97.41.26',\n",
    "                             user='usuario_henry',\n",
    "                             password='XXXXXXXXXXXX',\n",
    "                             database='henry')\n",
    "\n",
    "val =  [\n",
    "    (\"MANHATTAN\", \"2025\", \"5\", \"999\"), \n",
    "    (\"BRONX\", \"2025\", \"5\", \"999\")\n",
    "    ]\n",
    "\n",
    "with connection:\n",
    "  \n",
    "  with connection.cursor() as cursor:\n",
    "    # Create a new record\n",
    "    sql = \"INSERT INTO `zone_crash` (BOROUGH, YEAR, MONTH, COLLISION_COUNT) VALUES (%s, %s, %s, %s)\"\n",
    "    cursor.executemany(sql, val)\n",
    "\n",
    "  # connection is not autocommit by default. So you must commit to save\n",
    "  # your changes.\n",
    "  connection.commit()\n",
    "  \n",
    "  with connection.cursor() as cursor:\n",
    "    # Read a single record\n",
    "    sql = \"SELECT * FROM zone_crash WHERE YEAR = 2025\"\n",
    "    cursor.execute(sql)\n",
    "    result = cursor.fetchone()\n",
    "    print(result)"
   ]
  }
 ],
 "metadata": {
  "kernelspec": {
   "display_name": "Python 3.10.5 64-bit",
   "language": "python",
   "name": "python3"
  },
  "language_info": {
   "codemirror_mode": {
    "name": "ipython",
    "version": 3
   },
   "file_extension": ".py",
   "mimetype": "text/x-python",
   "name": "python",
   "nbconvert_exporter": "python",
   "pygments_lexer": "ipython3",
   "version": "3.10.5"
  },
  "orig_nbformat": 4,
  "vscode": {
   "interpreter": {
    "hash": "2662dc78f6b43a79706dc0dcf78b7e7b993f28cb3da5f2e9fa55122a788f3088"
   }
  }
 },
 "nbformat": 4,
 "nbformat_minor": 2
}
