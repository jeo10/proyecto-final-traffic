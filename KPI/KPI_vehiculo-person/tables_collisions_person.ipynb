{
 "cells": [
  {
   "cell_type": "code",
   "execution_count": 1,
   "metadata": {},
   "outputs": [],
   "source": [
    "import pandas as pd\n",
    "import numpy as np\n",
    "import matplotlib.pyplot as plt\n",
    "import seaborn as sns\n",
    "import datetime as dt"
   ]
  },
  {
   "cell_type": "code",
   "execution_count": 2,
   "metadata": {},
   "outputs": [
    {
     "data": {
      "text/html": [
       "<div>\n",
       "<style scoped>\n",
       "    .dataframe tbody tr th:only-of-type {\n",
       "        vertical-align: middle;\n",
       "    }\n",
       "\n",
       "    .dataframe tbody tr th {\n",
       "        vertical-align: top;\n",
       "    }\n",
       "\n",
       "    .dataframe thead th {\n",
       "        text-align: right;\n",
       "    }\n",
       "</style>\n",
       "<table border=\"1\" class=\"dataframe\">\n",
       "  <thead>\n",
       "    <tr style=\"text-align: right;\">\n",
       "      <th></th>\n",
       "      <th>UNIQUE_ID</th>\n",
       "      <th>COLLISION_ID</th>\n",
       "      <th>CRASH_DATE</th>\n",
       "      <th>CRASH_TIME</th>\n",
       "      <th>PERSON_ID</th>\n",
       "      <th>PERSON_TYPE</th>\n",
       "      <th>PERSON_INJURY</th>\n",
       "      <th>VEHICLE_ID</th>\n",
       "      <th>PERSON_AGE</th>\n",
       "      <th>EJECTION</th>\n",
       "      <th>...</th>\n",
       "      <th>BODILY_INJURY</th>\n",
       "      <th>POSITION_IN_VEHICLE</th>\n",
       "      <th>SAFETY_EQUIPMENT</th>\n",
       "      <th>PED_LOCATION</th>\n",
       "      <th>PED_ACTION</th>\n",
       "      <th>COMPLAINT</th>\n",
       "      <th>PED_ROLE</th>\n",
       "      <th>CONTRIBUTING_FACTOR_1</th>\n",
       "      <th>CONTRIBUTING_FACTOR_2</th>\n",
       "      <th>PERSON_SEX</th>\n",
       "    </tr>\n",
       "  </thead>\n",
       "  <tbody>\n",
       "    <tr>\n",
       "      <th>0</th>\n",
       "      <td>10249006</td>\n",
       "      <td>4229554</td>\n",
       "      <td>10/26/2019</td>\n",
       "      <td>9:43</td>\n",
       "      <td>31aa2bc0-f545-444f-8cdb-f1cb5cf00b89</td>\n",
       "      <td>Occupant</td>\n",
       "      <td>Unspecified</td>\n",
       "      <td>19141108.0</td>\n",
       "      <td>NaN</td>\n",
       "      <td>NaN</td>\n",
       "      <td>...</td>\n",
       "      <td>NaN</td>\n",
       "      <td>NaN</td>\n",
       "      <td>NaN</td>\n",
       "      <td>NaN</td>\n",
       "      <td>NaN</td>\n",
       "      <td>NaN</td>\n",
       "      <td>Registrant</td>\n",
       "      <td>NaN</td>\n",
       "      <td>NaN</td>\n",
       "      <td>U</td>\n",
       "    </tr>\n",
       "    <tr>\n",
       "      <th>1</th>\n",
       "      <td>10255054</td>\n",
       "      <td>4230587</td>\n",
       "      <td>10/25/2019</td>\n",
       "      <td>15:15</td>\n",
       "      <td>4629e500-a73e-48dc-b8fb-53124d124b80</td>\n",
       "      <td>Occupant</td>\n",
       "      <td>Unspecified</td>\n",
       "      <td>19144075.0</td>\n",
       "      <td>33.0</td>\n",
       "      <td>Not Ejected</td>\n",
       "      <td>...</td>\n",
       "      <td>Does Not Apply</td>\n",
       "      <td>Front passenger, if two or more persons, inclu...</td>\n",
       "      <td>Lap Belt &amp; Harness</td>\n",
       "      <td>NaN</td>\n",
       "      <td>NaN</td>\n",
       "      <td>Does Not Apply</td>\n",
       "      <td>Passenger</td>\n",
       "      <td>NaN</td>\n",
       "      <td>NaN</td>\n",
       "      <td>F</td>\n",
       "    </tr>\n",
       "    <tr>\n",
       "      <th>2</th>\n",
       "      <td>10253177</td>\n",
       "      <td>4230550</td>\n",
       "      <td>10/26/2019</td>\n",
       "      <td>17:55</td>\n",
       "      <td>ae48c136-1383-45db-83f4-2a5eecfb7cff</td>\n",
       "      <td>Occupant</td>\n",
       "      <td>Unspecified</td>\n",
       "      <td>19143133.0</td>\n",
       "      <td>55.0</td>\n",
       "      <td>NaN</td>\n",
       "      <td>...</td>\n",
       "      <td>NaN</td>\n",
       "      <td>NaN</td>\n",
       "      <td>NaN</td>\n",
       "      <td>NaN</td>\n",
       "      <td>NaN</td>\n",
       "      <td>NaN</td>\n",
       "      <td>Registrant</td>\n",
       "      <td>NaN</td>\n",
       "      <td>NaN</td>\n",
       "      <td>M</td>\n",
       "    </tr>\n",
       "    <tr>\n",
       "      <th>3</th>\n",
       "      <td>6650180</td>\n",
       "      <td>3565527</td>\n",
       "      <td>11/21/2016</td>\n",
       "      <td>13:05</td>\n",
       "      <td>2782525</td>\n",
       "      <td>Occupant</td>\n",
       "      <td>Unspecified</td>\n",
       "      <td>NaN</td>\n",
       "      <td>NaN</td>\n",
       "      <td>NaN</td>\n",
       "      <td>...</td>\n",
       "      <td>NaN</td>\n",
       "      <td>NaN</td>\n",
       "      <td>NaN</td>\n",
       "      <td>NaN</td>\n",
       "      <td>NaN</td>\n",
       "      <td>NaN</td>\n",
       "      <td>Notified Person</td>\n",
       "      <td>NaN</td>\n",
       "      <td>NaN</td>\n",
       "      <td>NaN</td>\n",
       "    </tr>\n",
       "    <tr>\n",
       "      <th>4</th>\n",
       "      <td>10255516</td>\n",
       "      <td>4231168</td>\n",
       "      <td>10/25/2019</td>\n",
       "      <td>11:16</td>\n",
       "      <td>e038e18f-40fb-4471-99cf-345eae36e064</td>\n",
       "      <td>Occupant</td>\n",
       "      <td>Unspecified</td>\n",
       "      <td>19144329.0</td>\n",
       "      <td>7.0</td>\n",
       "      <td>Not Ejected</td>\n",
       "      <td>...</td>\n",
       "      <td>Does Not Apply</td>\n",
       "      <td>Right rear passenger or motorcycle sidecar pas...</td>\n",
       "      <td>Lap Belt</td>\n",
       "      <td>NaN</td>\n",
       "      <td>NaN</td>\n",
       "      <td>Does Not Apply</td>\n",
       "      <td>Passenger</td>\n",
       "      <td>NaN</td>\n",
       "      <td>NaN</td>\n",
       "      <td>F</td>\n",
       "    </tr>\n",
       "  </tbody>\n",
       "</table>\n",
       "<p>5 rows × 21 columns</p>\n",
       "</div>"
      ],
      "text/plain": [
       "   UNIQUE_ID  COLLISION_ID  CRASH_DATE CRASH_TIME  \\\n",
       "0   10249006       4229554  10/26/2019       9:43   \n",
       "1   10255054       4230587  10/25/2019      15:15   \n",
       "2   10253177       4230550  10/26/2019      17:55   \n",
       "3    6650180       3565527  11/21/2016      13:05   \n",
       "4   10255516       4231168  10/25/2019      11:16   \n",
       "\n",
       "                              PERSON_ID PERSON_TYPE PERSON_INJURY  VEHICLE_ID  \\\n",
       "0  31aa2bc0-f545-444f-8cdb-f1cb5cf00b89    Occupant   Unspecified  19141108.0   \n",
       "1  4629e500-a73e-48dc-b8fb-53124d124b80    Occupant   Unspecified  19144075.0   \n",
       "2  ae48c136-1383-45db-83f4-2a5eecfb7cff    Occupant   Unspecified  19143133.0   \n",
       "3                               2782525    Occupant   Unspecified         NaN   \n",
       "4  e038e18f-40fb-4471-99cf-345eae36e064    Occupant   Unspecified  19144329.0   \n",
       "\n",
       "   PERSON_AGE     EJECTION  ...   BODILY_INJURY  \\\n",
       "0         NaN          NaN  ...             NaN   \n",
       "1        33.0  Not Ejected  ...  Does Not Apply   \n",
       "2        55.0          NaN  ...             NaN   \n",
       "3         NaN          NaN  ...             NaN   \n",
       "4         7.0  Not Ejected  ...  Does Not Apply   \n",
       "\n",
       "                                 POSITION_IN_VEHICLE    SAFETY_EQUIPMENT  \\\n",
       "0                                                NaN                 NaN   \n",
       "1  Front passenger, if two or more persons, inclu...  Lap Belt & Harness   \n",
       "2                                                NaN                 NaN   \n",
       "3                                                NaN                 NaN   \n",
       "4  Right rear passenger or motorcycle sidecar pas...            Lap Belt   \n",
       "\n",
       "  PED_LOCATION PED_ACTION       COMPLAINT         PED_ROLE  \\\n",
       "0          NaN        NaN             NaN       Registrant   \n",
       "1          NaN        NaN  Does Not Apply        Passenger   \n",
       "2          NaN        NaN             NaN       Registrant   \n",
       "3          NaN        NaN             NaN  Notified Person   \n",
       "4          NaN        NaN  Does Not Apply        Passenger   \n",
       "\n",
       "  CONTRIBUTING_FACTOR_1 CONTRIBUTING_FACTOR_2 PERSON_SEX  \n",
       "0                   NaN                   NaN          U  \n",
       "1                   NaN                   NaN          F  \n",
       "2                   NaN                   NaN          M  \n",
       "3                   NaN                   NaN        NaN  \n",
       "4                   NaN                   NaN          F  \n",
       "\n",
       "[5 rows x 21 columns]"
      ]
     },
     "execution_count": 2,
     "metadata": {},
     "output_type": "execute_result"
    }
   ],
   "source": [
    "df_vehicle_person_crash = pd.read_csv(\"Motor_Vehicle_Collisions_-_Person.csv\")\n",
    "df_vehicle_person_crash.head()"
   ]
  },
  {
   "cell_type": "code",
   "execution_count": 3,
   "metadata": {},
   "outputs": [
    {
     "data": {
      "text/plain": [
       "UNIQUE_ID                  int64\n",
       "COLLISION_ID               int64\n",
       "CRASH_DATE                object\n",
       "CRASH_TIME                object\n",
       "PERSON_ID                 object\n",
       "PERSON_TYPE               object\n",
       "PERSON_INJURY             object\n",
       "VEHICLE_ID               float64\n",
       "PERSON_AGE               float64\n",
       "EJECTION                  object\n",
       "EMOTIONAL_STATUS          object\n",
       "BODILY_INJURY             object\n",
       "POSITION_IN_VEHICLE       object\n",
       "SAFETY_EQUIPMENT          object\n",
       "PED_LOCATION              object\n",
       "PED_ACTION                object\n",
       "COMPLAINT                 object\n",
       "PED_ROLE                  object\n",
       "CONTRIBUTING_FACTOR_1     object\n",
       "CONTRIBUTING_FACTOR_2     object\n",
       "PERSON_SEX                object\n",
       "dtype: object"
      ]
     },
     "execution_count": 3,
     "metadata": {},
     "output_type": "execute_result"
    }
   ],
   "source": [
    "df_vehicle_person_crash.dtypes"
   ]
  },
  {
   "cell_type": "code",
   "execution_count": 4,
   "metadata": {},
   "outputs": [
    {
     "data": {
      "text/plain": [
       "UNIQUE_ID                0.000000\n",
       "COLLISION_ID             0.000000\n",
       "CRASH_DATE               0.000000\n",
       "CRASH_TIME               0.000000\n",
       "PERSON_ID                0.000004\n",
       "PERSON_TYPE              0.000000\n",
       "PERSON_INJURY            0.000000\n",
       "VEHICLE_ID               0.039645\n",
       "PERSON_AGE               0.098226\n",
       "EJECTION                 0.488140\n",
       "EMOTIONAL_STATUS         0.474562\n",
       "BODILY_INJURY            0.474553\n",
       "POSITION_IN_VEHICLE      0.488069\n",
       "SAFETY_EQUIPMENT         0.488084\n",
       "PED_LOCATION             0.985548\n",
       "PED_ACTION               0.985569\n",
       "COMPLAINT                0.474551\n",
       "PED_ROLE                 0.040784\n",
       "CONTRIBUTING_FACTOR_1    0.985813\n",
       "CONTRIBUTING_FACTOR_2    0.985832\n",
       "PERSON_SEX               0.114505\n",
       "dtype: float64"
      ]
     },
     "execution_count": 4,
     "metadata": {},
     "output_type": "execute_result"
    }
   ],
   "source": [
    "df_vehicle_person_crash.isna().mean()"
   ]
  },
  {
   "cell_type": "code",
   "execution_count": 5,
   "metadata": {},
   "outputs": [
    {
     "name": "stdout",
     "output_type": "stream",
     "text": [
      "4778660 (4778660, 21)\n"
     ]
    }
   ],
   "source": [
    "print(df_vehicle_person_crash['UNIQUE_ID'].nunique(), df_vehicle_person_crash.shape)"
   ]
  },
  {
   "cell_type": "code",
   "execution_count": 6,
   "metadata": {},
   "outputs": [
    {
     "data": {
      "text/plain": [
       "Index(['UNIQUE_ID', 'COLLISION_ID', 'CRASH_DATE', 'CRASH_TIME', 'PERSON_ID',\n",
       "       'PERSON_TYPE', 'PERSON_INJURY', 'VEHICLE_ID', 'PERSON_AGE', 'EJECTION',\n",
       "       'EMOTIONAL_STATUS', 'BODILY_INJURY', 'POSITION_IN_VEHICLE',\n",
       "       'SAFETY_EQUIPMENT', 'PED_LOCATION', 'PED_ACTION', 'COMPLAINT',\n",
       "       'PED_ROLE', 'CONTRIBUTING_FACTOR_1', 'CONTRIBUTING_FACTOR_2',\n",
       "       'PERSON_SEX'],\n",
       "      dtype='object')"
      ]
     },
     "execution_count": 6,
     "metadata": {},
     "output_type": "execute_result"
    }
   ],
   "source": [
    "df_vehicle_person_crash.columns"
   ]
  },
  {
   "cell_type": "code",
   "execution_count": 7,
   "metadata": {},
   "outputs": [],
   "source": [
    "df_vehicle_person_crash['CRASH_DATE']=pd.to_datetime(df_vehicle_person_crash.CRASH_DATE)\n",
    "df_vehicle_person_crash['PERIODO'] = df_vehicle_person_crash['CRASH_DATE'].dt.strftime('%Y/%m')"
   ]
  },
  {
   "cell_type": "code",
   "execution_count": 8,
   "metadata": {},
   "outputs": [
    {
     "data": {
      "text/html": [
       "<div>\n",
       "<style scoped>\n",
       "    .dataframe tbody tr th:only-of-type {\n",
       "        vertical-align: middle;\n",
       "    }\n",
       "\n",
       "    .dataframe tbody tr th {\n",
       "        vertical-align: top;\n",
       "    }\n",
       "\n",
       "    .dataframe thead th {\n",
       "        text-align: right;\n",
       "    }\n",
       "</style>\n",
       "<table border=\"1\" class=\"dataframe\">\n",
       "  <thead>\n",
       "    <tr style=\"text-align: right;\">\n",
       "      <th></th>\n",
       "      <th>UNIQUE_ID</th>\n",
       "      <th>PERIODO</th>\n",
       "      <th>PERSON_SEX</th>\n",
       "      <th>PERSON_INJURY</th>\n",
       "      <th>PERSON_TYPE</th>\n",
       "      <th>EMOTIONAL_STATUS</th>\n",
       "    </tr>\n",
       "  </thead>\n",
       "  <tbody>\n",
       "    <tr>\n",
       "      <th>0</th>\n",
       "      <td>2226882</td>\n",
       "      <td>2012/07</td>\n",
       "      <td>NaN</td>\n",
       "      <td>Injured</td>\n",
       "      <td>Occupant</td>\n",
       "      <td>NaN</td>\n",
       "    </tr>\n",
       "    <tr>\n",
       "      <th>1</th>\n",
       "      <td>1865123</td>\n",
       "      <td>2012/07</td>\n",
       "      <td>NaN</td>\n",
       "      <td>Injured</td>\n",
       "      <td>Pedestrian</td>\n",
       "      <td>NaN</td>\n",
       "    </tr>\n",
       "    <tr>\n",
       "      <th>2</th>\n",
       "      <td>1624653</td>\n",
       "      <td>2012/07</td>\n",
       "      <td>NaN</td>\n",
       "      <td>Injured</td>\n",
       "      <td>Bicyclist</td>\n",
       "      <td>NaN</td>\n",
       "    </tr>\n",
       "    <tr>\n",
       "      <th>3</th>\n",
       "      <td>1265921</td>\n",
       "      <td>2012/07</td>\n",
       "      <td>NaN</td>\n",
       "      <td>Injured</td>\n",
       "      <td>Pedestrian</td>\n",
       "      <td>NaN</td>\n",
       "    </tr>\n",
       "    <tr>\n",
       "      <th>4</th>\n",
       "      <td>1893857</td>\n",
       "      <td>2012/07</td>\n",
       "      <td>NaN</td>\n",
       "      <td>Injured</td>\n",
       "      <td>Pedestrian</td>\n",
       "      <td>NaN</td>\n",
       "    </tr>\n",
       "    <tr>\n",
       "      <th>...</th>\n",
       "      <td>...</td>\n",
       "      <td>...</td>\n",
       "      <td>...</td>\n",
       "      <td>...</td>\n",
       "      <td>...</td>\n",
       "      <td>...</td>\n",
       "    </tr>\n",
       "    <tr>\n",
       "      <th>4778655</th>\n",
       "      <td>12318170</td>\n",
       "      <td>2022/08</td>\n",
       "      <td>F</td>\n",
       "      <td>Unspecified</td>\n",
       "      <td>Occupant</td>\n",
       "      <td>NaN</td>\n",
       "    </tr>\n",
       "    <tr>\n",
       "      <th>4778656</th>\n",
       "      <td>12316805</td>\n",
       "      <td>2022/08</td>\n",
       "      <td>F</td>\n",
       "      <td>Injured</td>\n",
       "      <td>Occupant</td>\n",
       "      <td>Conscious</td>\n",
       "    </tr>\n",
       "    <tr>\n",
       "      <th>4778657</th>\n",
       "      <td>12311254</td>\n",
       "      <td>2022/08</td>\n",
       "      <td>M</td>\n",
       "      <td>Unspecified</td>\n",
       "      <td>Occupant</td>\n",
       "      <td>Does Not Apply</td>\n",
       "    </tr>\n",
       "    <tr>\n",
       "      <th>4778658</th>\n",
       "      <td>12317199</td>\n",
       "      <td>2022/08</td>\n",
       "      <td>F</td>\n",
       "      <td>Unspecified</td>\n",
       "      <td>Occupant</td>\n",
       "      <td>Does Not Apply</td>\n",
       "    </tr>\n",
       "    <tr>\n",
       "      <th>4778659</th>\n",
       "      <td>12318268</td>\n",
       "      <td>2022/08</td>\n",
       "      <td>F</td>\n",
       "      <td>Unspecified</td>\n",
       "      <td>Occupant</td>\n",
       "      <td>Does Not Apply</td>\n",
       "    </tr>\n",
       "  </tbody>\n",
       "</table>\n",
       "<p>4778660 rows × 6 columns</p>\n",
       "</div>"
      ],
      "text/plain": [
       "         UNIQUE_ID  PERIODO PERSON_SEX PERSON_INJURY PERSON_TYPE  \\\n",
       "0          2226882  2012/07        NaN       Injured    Occupant   \n",
       "1          1865123  2012/07        NaN       Injured  Pedestrian   \n",
       "2          1624653  2012/07        NaN       Injured   Bicyclist   \n",
       "3          1265921  2012/07        NaN       Injured  Pedestrian   \n",
       "4          1893857  2012/07        NaN       Injured  Pedestrian   \n",
       "...            ...      ...        ...           ...         ...   \n",
       "4778655   12318170  2022/08          F   Unspecified    Occupant   \n",
       "4778656   12316805  2022/08          F       Injured    Occupant   \n",
       "4778657   12311254  2022/08          M   Unspecified    Occupant   \n",
       "4778658   12317199  2022/08          F   Unspecified    Occupant   \n",
       "4778659   12318268  2022/08          F   Unspecified    Occupant   \n",
       "\n",
       "        EMOTIONAL_STATUS  \n",
       "0                    NaN  \n",
       "1                    NaN  \n",
       "2                    NaN  \n",
       "3                    NaN  \n",
       "4                    NaN  \n",
       "...                  ...  \n",
       "4778655              NaN  \n",
       "4778656        Conscious  \n",
       "4778657   Does Not Apply  \n",
       "4778658   Does Not Apply  \n",
       "4778659   Does Not Apply  \n",
       "\n",
       "[4778660 rows x 6 columns]"
      ]
     },
     "execution_count": 8,
     "metadata": {},
     "output_type": "execute_result"
    }
   ],
   "source": [
    "vehicle_person_raw = df_vehicle_person_crash[['UNIQUE_ID', 'PERIODO', 'PERSON_SEX', 'PERSON_INJURY', 'PERSON_TYPE', 'EMOTIONAL_STATUS']]\n",
    "vehicle_person_raw = vehicle_person_raw.sort_values(['PERIODO']).reset_index(drop=True)\n",
    "vehicle_person_raw"
   ]
  },
  {
   "cell_type": "code",
   "execution_count": 9,
   "metadata": {},
   "outputs": [
    {
     "data": {
      "text/plain": [
       "EMOTIONAL_STATUS    2267770\n",
       "PERSON_SEX           547182\n",
       "UNIQUE_ID                 0\n",
       "PERIODO                   0\n",
       "PERSON_INJURY             0\n",
       "PERSON_TYPE               0\n",
       "dtype: int64"
      ]
     },
     "execution_count": 9,
     "metadata": {},
     "output_type": "execute_result"
    }
   ],
   "source": [
    "vehicle_person_raw.isna().sum().sort_values(ascending = False)"
   ]
  },
  {
   "cell_type": "code",
   "execution_count": 10,
   "metadata": {},
   "outputs": [
    {
     "data": {
      "text/plain": [
       "EMOTIONAL_STATUS    0.474562\n",
       "PERSON_SEX          0.114505\n",
       "UNIQUE_ID           0.000000\n",
       "PERIODO             0.000000\n",
       "PERSON_INJURY       0.000000\n",
       "PERSON_TYPE         0.000000\n",
       "dtype: float64"
      ]
     },
     "execution_count": 10,
     "metadata": {},
     "output_type": "execute_result"
    }
   ],
   "source": [
    "vehicle_person_raw.isna().mean().sort_values(ascending = False)"
   ]
  },
  {
   "cell_type": "markdown",
   "metadata": {},
   "source": [
    "CORROBORANDO LA UNICIDAD DE LA COLUMNA 'UNIQUE_ID'"
   ]
  },
  {
   "cell_type": "code",
   "execution_count": 11,
   "metadata": {},
   "outputs": [
    {
     "data": {
      "text/plain": [
       "True"
      ]
     },
     "execution_count": 11,
     "metadata": {},
     "output_type": "execute_result"
    }
   ],
   "source": [
    "len(vehicle_person_raw.index) == vehicle_person_raw['UNIQUE_ID'].nunique()"
   ]
  },
  {
   "cell_type": "markdown",
   "metadata": {},
   "source": [
    "# I. OBTENIENDO LA TABLA DE CONTEO DE PERSONAS POR SEXO"
   ]
  },
  {
   "cell_type": "markdown",
   "metadata": {},
   "source": [
    "#### 1. Comprobando los valores únicos de la columna 'PERSON_SEX' y llenando los valores nan."
   ]
  },
  {
   "cell_type": "code",
   "execution_count": 12,
   "metadata": {},
   "outputs": [
    {
     "name": "stdout",
     "output_type": "stream",
     "text": [
      "[nan 'M' 'U' 'F']\n"
     ]
    }
   ],
   "source": [
    "print(vehicle_person_raw['PERSON_SEX'].unique())"
   ]
  },
  {
   "cell_type": "code",
   "execution_count": 13,
   "metadata": {},
   "outputs": [],
   "source": [
    "vehicle_person_raw.PERSON_SEX.fillna(\"U\", inplace = True)"
   ]
  },
  {
   "cell_type": "markdown",
   "metadata": {},
   "source": [
    "#### 2. Comprobando los valores únicos de la columna 'EMOTIONAL_STATUS' y llenando los valores nan."
   ]
  },
  {
   "cell_type": "code",
   "execution_count": 14,
   "metadata": {},
   "outputs": [
    {
     "name": "stdout",
     "output_type": "stream",
     "text": [
      "[nan 'Does Not Apply' 'Conscious' 'Unknown' 'Shock' 'Incoherent'\n",
      " 'Semiconscious' 'Apparent Death' 'Unconscious']\n"
     ]
    }
   ],
   "source": [
    "print(df_vehicle_person_crash['EMOTIONAL_STATUS'].unique())"
   ]
  },
  {
   "cell_type": "code",
   "execution_count": 15,
   "metadata": {},
   "outputs": [],
   "source": [
    "vehicle_person_raw.EMOTIONAL_STATUS.fillna(\"Does Not Apply\", inplace = True) "
   ]
  },
  {
   "cell_type": "markdown",
   "metadata": {},
   "source": [
    "#### 3. Comprobando los cambios efectuados en nuestro dataframe 'vehicle_person_raw'"
   ]
  },
  {
   "cell_type": "code",
   "execution_count": 16,
   "metadata": {},
   "outputs": [
    {
     "data": {
      "text/html": [
       "<div>\n",
       "<style scoped>\n",
       "    .dataframe tbody tr th:only-of-type {\n",
       "        vertical-align: middle;\n",
       "    }\n",
       "\n",
       "    .dataframe tbody tr th {\n",
       "        vertical-align: top;\n",
       "    }\n",
       "\n",
       "    .dataframe thead th {\n",
       "        text-align: right;\n",
       "    }\n",
       "</style>\n",
       "<table border=\"1\" class=\"dataframe\">\n",
       "  <thead>\n",
       "    <tr style=\"text-align: right;\">\n",
       "      <th></th>\n",
       "      <th>UNIQUE_ID</th>\n",
       "      <th>PERIODO</th>\n",
       "      <th>PERSON_SEX</th>\n",
       "      <th>PERSON_INJURY</th>\n",
       "      <th>PERSON_TYPE</th>\n",
       "      <th>EMOTIONAL_STATUS</th>\n",
       "    </tr>\n",
       "  </thead>\n",
       "  <tbody>\n",
       "    <tr>\n",
       "      <th>0</th>\n",
       "      <td>2226882</td>\n",
       "      <td>2012/07</td>\n",
       "      <td>U</td>\n",
       "      <td>Injured</td>\n",
       "      <td>Occupant</td>\n",
       "      <td>Does Not Apply</td>\n",
       "    </tr>\n",
       "    <tr>\n",
       "      <th>1</th>\n",
       "      <td>1865123</td>\n",
       "      <td>2012/07</td>\n",
       "      <td>U</td>\n",
       "      <td>Injured</td>\n",
       "      <td>Pedestrian</td>\n",
       "      <td>Does Not Apply</td>\n",
       "    </tr>\n",
       "    <tr>\n",
       "      <th>2</th>\n",
       "      <td>1624653</td>\n",
       "      <td>2012/07</td>\n",
       "      <td>U</td>\n",
       "      <td>Injured</td>\n",
       "      <td>Bicyclist</td>\n",
       "      <td>Does Not Apply</td>\n",
       "    </tr>\n",
       "    <tr>\n",
       "      <th>3</th>\n",
       "      <td>1265921</td>\n",
       "      <td>2012/07</td>\n",
       "      <td>U</td>\n",
       "      <td>Injured</td>\n",
       "      <td>Pedestrian</td>\n",
       "      <td>Does Not Apply</td>\n",
       "    </tr>\n",
       "    <tr>\n",
       "      <th>4</th>\n",
       "      <td>1893857</td>\n",
       "      <td>2012/07</td>\n",
       "      <td>U</td>\n",
       "      <td>Injured</td>\n",
       "      <td>Pedestrian</td>\n",
       "      <td>Does Not Apply</td>\n",
       "    </tr>\n",
       "  </tbody>\n",
       "</table>\n",
       "</div>"
      ],
      "text/plain": [
       "   UNIQUE_ID  PERIODO PERSON_SEX PERSON_INJURY PERSON_TYPE EMOTIONAL_STATUS\n",
       "0    2226882  2012/07          U       Injured    Occupant   Does Not Apply\n",
       "1    1865123  2012/07          U       Injured  Pedestrian   Does Not Apply\n",
       "2    1624653  2012/07          U       Injured   Bicyclist   Does Not Apply\n",
       "3    1265921  2012/07          U       Injured  Pedestrian   Does Not Apply\n",
       "4    1893857  2012/07          U       Injured  Pedestrian   Does Not Apply"
      ]
     },
     "execution_count": 16,
     "metadata": {},
     "output_type": "execute_result"
    }
   ],
   "source": [
    "vehicle_person_raw.head()"
   ]
  },
  {
   "cell_type": "code",
   "execution_count": 17,
   "metadata": {},
   "outputs": [
    {
     "name": "stdout",
     "output_type": "stream",
     "text": [
      "<class 'pandas.core.frame.DataFrame'>\n",
      "RangeIndex: 4778660 entries, 0 to 4778659\n",
      "Data columns (total 6 columns):\n",
      " #   Column            Dtype \n",
      "---  ------            ----- \n",
      " 0   UNIQUE_ID         int64 \n",
      " 1   PERIODO           object\n",
      " 2   PERSON_SEX        object\n",
      " 3   PERSON_INJURY     object\n",
      " 4   PERSON_TYPE       object\n",
      " 5   EMOTIONAL_STATUS  object\n",
      "dtypes: int64(1), object(5)\n",
      "memory usage: 218.7+ MB\n"
     ]
    }
   ],
   "source": [
    "vehicle_person_raw.info()"
   ]
  },
  {
   "cell_type": "code",
   "execution_count": 18,
   "metadata": {},
   "outputs": [],
   "source": [
    "sex = vehicle_person_raw.groupby('PERSON_SEX')"
   ]
  },
  {
   "cell_type": "code",
   "execution_count": 19,
   "metadata": {},
   "outputs": [
    {
     "data": {
      "text/plain": [
       "3"
      ]
     },
     "execution_count": 19,
     "metadata": {},
     "output_type": "execute_result"
    }
   ],
   "source": [
    "len(sex)"
   ]
  },
  {
   "cell_type": "code",
   "execution_count": 20,
   "metadata": {},
   "outputs": [
    {
     "data": {
      "text/plain": [
       "PERSON_SEX\n",
       "F    1285983\n",
       "M    2545880\n",
       "U     946797\n",
       "dtype: int64"
      ]
     },
     "execution_count": 20,
     "metadata": {},
     "output_type": "execute_result"
    }
   ],
   "source": [
    "sex.size()"
   ]
  },
  {
   "cell_type": "code",
   "execution_count": 21,
   "metadata": {},
   "outputs": [],
   "source": [
    "male = sex.get_group('M')\n",
    "female = sex.get_group('F')\n",
    "undefined = sex.get_group('U')"
   ]
  },
  {
   "cell_type": "code",
   "execution_count": 22,
   "metadata": {},
   "outputs": [],
   "source": [
    "df_male = male.groupby('PERIODO', as_index = False)['UNIQUE_ID'].count()\n",
    "#df_male['UNIQUE_ID'].sum()\n",
    "#df_male.head()"
   ]
  },
  {
   "cell_type": "code",
   "execution_count": 23,
   "metadata": {},
   "outputs": [],
   "source": [
    "df_female = female.groupby('PERIODO', as_index = False)['UNIQUE_ID'].count()\n",
    "#df_female['UNIQUE_ID'].sum()\n",
    "#df_female.head()"
   ]
  },
  {
   "cell_type": "code",
   "execution_count": 24,
   "metadata": {},
   "outputs": [],
   "source": [
    "df_undefined = undefined.groupby('PERIODO', as_index = False)['UNIQUE_ID'].count()\n",
    "#df_undefined['UNIQUE_ID'].sum()\n",
    "#df_undefined.head()"
   ]
  },
  {
   "cell_type": "code",
   "execution_count": 25,
   "metadata": {},
   "outputs": [],
   "source": [
    "df_male.columns.values[1] = 'QTY_MALE'\n",
    "df_female.columns.values[1] = 'QTY_FEMALE'\n",
    "df_undefined.columns.values[1] = 'QTY_UNDEFINED'"
   ]
  },
  {
   "cell_type": "code",
   "execution_count": 26,
   "metadata": {},
   "outputs": [],
   "source": [
    "df_sex = df_male.merge(df_female, on=\"PERIODO\", how=\"left\").merge(df_undefined, on=\"PERIODO\", how=\"left\")"
   ]
  },
  {
   "cell_type": "code",
   "execution_count": 27,
   "metadata": {},
   "outputs": [
    {
     "data": {
      "text/html": [
       "<div>\n",
       "<style scoped>\n",
       "    .dataframe tbody tr th:only-of-type {\n",
       "        vertical-align: middle;\n",
       "    }\n",
       "\n",
       "    .dataframe tbody tr th {\n",
       "        vertical-align: top;\n",
       "    }\n",
       "\n",
       "    .dataframe thead th {\n",
       "        text-align: right;\n",
       "    }\n",
       "</style>\n",
       "<table border=\"1\" class=\"dataframe\">\n",
       "  <thead>\n",
       "    <tr style=\"text-align: right;\">\n",
       "      <th></th>\n",
       "      <th>PERIODO</th>\n",
       "      <th>QTY_MALE</th>\n",
       "      <th>QTY_FEMALE</th>\n",
       "      <th>QTY_UNDEFINED</th>\n",
       "    </tr>\n",
       "  </thead>\n",
       "  <tbody>\n",
       "    <tr>\n",
       "      <th>0</th>\n",
       "      <td>2012/07</td>\n",
       "      <td>13</td>\n",
       "      <td>NaN</td>\n",
       "      <td>4880</td>\n",
       "    </tr>\n",
       "    <tr>\n",
       "      <th>1</th>\n",
       "      <td>2012/08</td>\n",
       "      <td>7</td>\n",
       "      <td>3.0</td>\n",
       "      <td>4781</td>\n",
       "    </tr>\n",
       "    <tr>\n",
       "      <th>2</th>\n",
       "      <td>2012/09</td>\n",
       "      <td>7</td>\n",
       "      <td>6.0</td>\n",
       "      <td>4719</td>\n",
       "    </tr>\n",
       "    <tr>\n",
       "      <th>3</th>\n",
       "      <td>2012/10</td>\n",
       "      <td>9</td>\n",
       "      <td>3.0</td>\n",
       "      <td>4589</td>\n",
       "    </tr>\n",
       "    <tr>\n",
       "      <th>4</th>\n",
       "      <td>2012/11</td>\n",
       "      <td>1</td>\n",
       "      <td>1.0</td>\n",
       "      <td>4008</td>\n",
       "    </tr>\n",
       "  </tbody>\n",
       "</table>\n",
       "</div>"
      ],
      "text/plain": [
       "   PERIODO  QTY_MALE  QTY_FEMALE  QTY_UNDEFINED\n",
       "0  2012/07        13         NaN           4880\n",
       "1  2012/08         7         3.0           4781\n",
       "2  2012/09         7         6.0           4719\n",
       "3  2012/10         9         3.0           4589\n",
       "4  2012/11         1         1.0           4008"
      ]
     },
     "execution_count": 27,
     "metadata": {},
     "output_type": "execute_result"
    }
   ],
   "source": [
    "df_sex.head()"
   ]
  },
  {
   "cell_type": "code",
   "execution_count": 28,
   "metadata": {},
   "outputs": [
    {
     "name": "stdout",
     "output_type": "stream",
     "text": [
      "<class 'pandas.core.frame.DataFrame'>\n",
      "Int64Index: 120 entries, 0 to 119\n",
      "Data columns (total 4 columns):\n",
      " #   Column         Non-Null Count  Dtype  \n",
      "---  ------         --------------  -----  \n",
      " 0   PERIODO        120 non-null    object \n",
      " 1   QTY_MALE       120 non-null    int64  \n",
      " 2   QTY_FEMALE     118 non-null    float64\n",
      " 3   QTY_UNDEFINED  120 non-null    int64  \n",
      "dtypes: float64(1), int64(2), object(1)\n",
      "memory usage: 4.7+ KB\n"
     ]
    }
   ],
   "source": [
    "df_sex.info()"
   ]
  },
  {
   "cell_type": "code",
   "execution_count": 29,
   "metadata": {},
   "outputs": [],
   "source": [
    "df_sex['QTY_FEMALE'] = df_sex['QTY_FEMALE'].fillna(0)"
   ]
  },
  {
   "cell_type": "code",
   "execution_count": 30,
   "metadata": {},
   "outputs": [],
   "source": [
    "df_sex['QTY_FEMALE'] = df_sex['QTY_FEMALE'].astype('int64')"
   ]
  },
  {
   "cell_type": "code",
   "execution_count": 31,
   "metadata": {},
   "outputs": [],
   "source": [
    "df_sex['QTY_TOTAL'] = df_sex['QTY_MALE'] + df_sex['QTY_FEMALE'] + df_sex['QTY_UNDEFINED']"
   ]
  },
  {
   "cell_type": "code",
   "execution_count": 32,
   "metadata": {},
   "outputs": [
    {
     "data": {
      "text/html": [
       "<div>\n",
       "<style scoped>\n",
       "    .dataframe tbody tr th:only-of-type {\n",
       "        vertical-align: middle;\n",
       "    }\n",
       "\n",
       "    .dataframe tbody tr th {\n",
       "        vertical-align: top;\n",
       "    }\n",
       "\n",
       "    .dataframe thead th {\n",
       "        text-align: right;\n",
       "    }\n",
       "</style>\n",
       "<table border=\"1\" class=\"dataframe\">\n",
       "  <thead>\n",
       "    <tr style=\"text-align: right;\">\n",
       "      <th></th>\n",
       "      <th>PERIODO</th>\n",
       "      <th>QTY_MALE</th>\n",
       "      <th>QTY_FEMALE</th>\n",
       "      <th>QTY_UNDEFINED</th>\n",
       "      <th>QTY_TOTAL</th>\n",
       "    </tr>\n",
       "  </thead>\n",
       "  <tbody>\n",
       "    <tr>\n",
       "      <th>0</th>\n",
       "      <td>2012/07</td>\n",
       "      <td>13</td>\n",
       "      <td>0</td>\n",
       "      <td>4880</td>\n",
       "      <td>4893</td>\n",
       "    </tr>\n",
       "    <tr>\n",
       "      <th>1</th>\n",
       "      <td>2012/08</td>\n",
       "      <td>7</td>\n",
       "      <td>3</td>\n",
       "      <td>4781</td>\n",
       "      <td>4791</td>\n",
       "    </tr>\n",
       "    <tr>\n",
       "      <th>2</th>\n",
       "      <td>2012/09</td>\n",
       "      <td>7</td>\n",
       "      <td>6</td>\n",
       "      <td>4719</td>\n",
       "      <td>4732</td>\n",
       "    </tr>\n",
       "    <tr>\n",
       "      <th>3</th>\n",
       "      <td>2012/10</td>\n",
       "      <td>9</td>\n",
       "      <td>3</td>\n",
       "      <td>4589</td>\n",
       "      <td>4601</td>\n",
       "    </tr>\n",
       "    <tr>\n",
       "      <th>4</th>\n",
       "      <td>2012/11</td>\n",
       "      <td>1</td>\n",
       "      <td>1</td>\n",
       "      <td>4008</td>\n",
       "      <td>4010</td>\n",
       "    </tr>\n",
       "  </tbody>\n",
       "</table>\n",
       "</div>"
      ],
      "text/plain": [
       "   PERIODO  QTY_MALE  QTY_FEMALE  QTY_UNDEFINED  QTY_TOTAL\n",
       "0  2012/07        13           0           4880       4893\n",
       "1  2012/08         7           3           4781       4791\n",
       "2  2012/09         7           6           4719       4732\n",
       "3  2012/10         9           3           4589       4601\n",
       "4  2012/11         1           1           4008       4010"
      ]
     },
     "execution_count": 32,
     "metadata": {},
     "output_type": "execute_result"
    }
   ],
   "source": [
    "df_sex.head()"
   ]
  },
  {
   "cell_type": "code",
   "execution_count": 33,
   "metadata": {},
   "outputs": [],
   "source": [
    "df_sex.to_csv('data_monthly_by_sex.csv', sep=',', index=False)"
   ]
  },
  {
   "cell_type": "markdown",
   "metadata": {},
   "source": [
    "df_sex = pd.merge(pd.merge(df_male, df_female, on='PERIODO'), df_undefined, on='PERIODO')"
   ]
  },
  {
   "cell_type": "markdown",
   "metadata": {},
   "source": [
    "# II. OBTENIENDO LA TABLA DE CONTEO DE PERSONAS POR 'INJURY'"
   ]
  },
  {
   "cell_type": "code",
   "execution_count": 34,
   "metadata": {},
   "outputs": [],
   "source": [
    "injury = vehicle_person_raw.groupby('PERSON_INJURY')"
   ]
  },
  {
   "cell_type": "code",
   "execution_count": 35,
   "metadata": {},
   "outputs": [
    {
     "data": {
      "text/plain": [
       "3"
      ]
     },
     "execution_count": 35,
     "metadata": {},
     "output_type": "execute_result"
    }
   ],
   "source": [
    "len(injury)"
   ]
  },
  {
   "cell_type": "code",
   "execution_count": 36,
   "metadata": {},
   "outputs": [
    {
     "data": {
      "text/plain": [
       "PERSON_INJURY\n",
       "Injured         557816\n",
       "Killed            2648\n",
       "Unspecified    4218196\n",
       "dtype: int64"
      ]
     },
     "execution_count": 36,
     "metadata": {},
     "output_type": "execute_result"
    }
   ],
   "source": [
    "injury.size()"
   ]
  },
  {
   "cell_type": "code",
   "execution_count": 37,
   "metadata": {},
   "outputs": [],
   "source": [
    "inj = injury.get_group('Injured')\n",
    "kill = injury.get_group('Killed')\n",
    "unsp = injury.get_group('Unspecified')"
   ]
  },
  {
   "cell_type": "code",
   "execution_count": 38,
   "metadata": {},
   "outputs": [],
   "source": [
    "df_inj = inj.groupby('PERIODO', as_index = False)['UNIQUE_ID'].count()\n",
    "#df_inj['UNIQUE_ID'].sum()\n",
    "#df_inj.head()"
   ]
  },
  {
   "cell_type": "code",
   "execution_count": 39,
   "metadata": {},
   "outputs": [],
   "source": [
    "df_kill = kill.groupby('PERIODO', as_index = False)['UNIQUE_ID'].count()\n",
    "#df_kill['UNIQUE_ID'].sum()\n",
    "#df_kill.head()"
   ]
  },
  {
   "cell_type": "code",
   "execution_count": 40,
   "metadata": {},
   "outputs": [],
   "source": [
    "df_unsp = unsp.groupby('PERIODO', as_index = False)['UNIQUE_ID'].count()\n",
    "#df_unsp['UNIQUE_ID'].sum()\n",
    "#df_unsp.head()"
   ]
  },
  {
   "cell_type": "code",
   "execution_count": 41,
   "metadata": {},
   "outputs": [],
   "source": [
    "df_inj.columns.values[1] = 'QTY_INJURED'\n",
    "df_kill.columns.values[1] = 'QTY_KILLED'\n",
    "df_unsp.columns.values[1] = 'QTY_UNSPECIFIED'"
   ]
  },
  {
   "cell_type": "code",
   "execution_count": 42,
   "metadata": {},
   "outputs": [],
   "source": [
    "df_injury = df_inj.merge(df_kill, on=\"PERIODO\", how=\"left\").merge(df_unsp, on=\"PERIODO\", how=\"left\")"
   ]
  },
  {
   "cell_type": "code",
   "execution_count": 43,
   "metadata": {},
   "outputs": [
    {
     "data": {
      "text/html": [
       "<div>\n",
       "<style scoped>\n",
       "    .dataframe tbody tr th:only-of-type {\n",
       "        vertical-align: middle;\n",
       "    }\n",
       "\n",
       "    .dataframe tbody tr th {\n",
       "        vertical-align: top;\n",
       "    }\n",
       "\n",
       "    .dataframe thead th {\n",
       "        text-align: right;\n",
       "    }\n",
       "</style>\n",
       "<table border=\"1\" class=\"dataframe\">\n",
       "  <thead>\n",
       "    <tr style=\"text-align: right;\">\n",
       "      <th></th>\n",
       "      <th>PERIODO</th>\n",
       "      <th>QTY_INJURED</th>\n",
       "      <th>QTY_KILLED</th>\n",
       "      <th>QTY_UNSPECIFIED</th>\n",
       "    </tr>\n",
       "  </thead>\n",
       "  <tbody>\n",
       "    <tr>\n",
       "      <th>0</th>\n",
       "      <td>2012/07</td>\n",
       "      <td>4855</td>\n",
       "      <td>22</td>\n",
       "      <td>16.0</td>\n",
       "    </tr>\n",
       "    <tr>\n",
       "      <th>1</th>\n",
       "      <td>2012/08</td>\n",
       "      <td>4751</td>\n",
       "      <td>27</td>\n",
       "      <td>13.0</td>\n",
       "    </tr>\n",
       "    <tr>\n",
       "      <th>2</th>\n",
       "      <td>2012/09</td>\n",
       "      <td>4689</td>\n",
       "      <td>26</td>\n",
       "      <td>17.0</td>\n",
       "    </tr>\n",
       "    <tr>\n",
       "      <th>3</th>\n",
       "      <td>2012/10</td>\n",
       "      <td>4566</td>\n",
       "      <td>21</td>\n",
       "      <td>14.0</td>\n",
       "    </tr>\n",
       "    <tr>\n",
       "      <th>4</th>\n",
       "      <td>2012/11</td>\n",
       "      <td>3995</td>\n",
       "      <td>14</td>\n",
       "      <td>1.0</td>\n",
       "    </tr>\n",
       "  </tbody>\n",
       "</table>\n",
       "</div>"
      ],
      "text/plain": [
       "   PERIODO  QTY_INJURED  QTY_KILLED  QTY_UNSPECIFIED\n",
       "0  2012/07         4855          22             16.0\n",
       "1  2012/08         4751          27             13.0\n",
       "2  2012/09         4689          26             17.0\n",
       "3  2012/10         4566          21             14.0\n",
       "4  2012/11         3995          14              1.0"
      ]
     },
     "execution_count": 43,
     "metadata": {},
     "output_type": "execute_result"
    }
   ],
   "source": [
    "df_injury.head()"
   ]
  },
  {
   "cell_type": "code",
   "execution_count": 44,
   "metadata": {},
   "outputs": [
    {
     "name": "stdout",
     "output_type": "stream",
     "text": [
      "<class 'pandas.core.frame.DataFrame'>\n",
      "Int64Index: 122 entries, 0 to 121\n",
      "Data columns (total 4 columns):\n",
      " #   Column           Non-Null Count  Dtype  \n",
      "---  ------           --------------  -----  \n",
      " 0   PERIODO          122 non-null    object \n",
      " 1   QTY_INJURED      122 non-null    int64  \n",
      " 2   QTY_KILLED       122 non-null    int64  \n",
      " 3   QTY_UNSPECIFIED  121 non-null    float64\n",
      "dtypes: float64(1), int64(2), object(1)\n",
      "memory usage: 4.8+ KB\n"
     ]
    }
   ],
   "source": [
    "df_injury.info()"
   ]
  },
  {
   "cell_type": "code",
   "execution_count": 45,
   "metadata": {},
   "outputs": [],
   "source": [
    "df_injury['QTY_UNSPECIFIED'] = df_injury['QTY_UNSPECIFIED'].fillna(0)"
   ]
  },
  {
   "cell_type": "code",
   "execution_count": 46,
   "metadata": {},
   "outputs": [],
   "source": [
    "df_injury['QTY_UNSPECIFIED'] = df_injury['QTY_UNSPECIFIED'].astype('int64')"
   ]
  },
  {
   "cell_type": "code",
   "execution_count": 47,
   "metadata": {},
   "outputs": [],
   "source": [
    "df_injury['QTY_TOTAL'] = df_injury['QTY_INJURED'] + df_injury['QTY_KILLED'] + df_injury['QTY_UNSPECIFIED']"
   ]
  },
  {
   "cell_type": "code",
   "execution_count": 48,
   "metadata": {},
   "outputs": [
    {
     "data": {
      "text/html": [
       "<div>\n",
       "<style scoped>\n",
       "    .dataframe tbody tr th:only-of-type {\n",
       "        vertical-align: middle;\n",
       "    }\n",
       "\n",
       "    .dataframe tbody tr th {\n",
       "        vertical-align: top;\n",
       "    }\n",
       "\n",
       "    .dataframe thead th {\n",
       "        text-align: right;\n",
       "    }\n",
       "</style>\n",
       "<table border=\"1\" class=\"dataframe\">\n",
       "  <thead>\n",
       "    <tr style=\"text-align: right;\">\n",
       "      <th></th>\n",
       "      <th>PERIODO</th>\n",
       "      <th>QTY_INJURED</th>\n",
       "      <th>QTY_KILLED</th>\n",
       "      <th>QTY_UNSPECIFIED</th>\n",
       "      <th>QTY_TOTAL</th>\n",
       "    </tr>\n",
       "  </thead>\n",
       "  <tbody>\n",
       "    <tr>\n",
       "      <th>0</th>\n",
       "      <td>2012/07</td>\n",
       "      <td>4855</td>\n",
       "      <td>22</td>\n",
       "      <td>16</td>\n",
       "      <td>4893</td>\n",
       "    </tr>\n",
       "    <tr>\n",
       "      <th>1</th>\n",
       "      <td>2012/08</td>\n",
       "      <td>4751</td>\n",
       "      <td>27</td>\n",
       "      <td>13</td>\n",
       "      <td>4791</td>\n",
       "    </tr>\n",
       "    <tr>\n",
       "      <th>2</th>\n",
       "      <td>2012/09</td>\n",
       "      <td>4689</td>\n",
       "      <td>26</td>\n",
       "      <td>17</td>\n",
       "      <td>4732</td>\n",
       "    </tr>\n",
       "    <tr>\n",
       "      <th>3</th>\n",
       "      <td>2012/10</td>\n",
       "      <td>4566</td>\n",
       "      <td>21</td>\n",
       "      <td>14</td>\n",
       "      <td>4601</td>\n",
       "    </tr>\n",
       "    <tr>\n",
       "      <th>4</th>\n",
       "      <td>2012/11</td>\n",
       "      <td>3995</td>\n",
       "      <td>14</td>\n",
       "      <td>1</td>\n",
       "      <td>4010</td>\n",
       "    </tr>\n",
       "  </tbody>\n",
       "</table>\n",
       "</div>"
      ],
      "text/plain": [
       "   PERIODO  QTY_INJURED  QTY_KILLED  QTY_UNSPECIFIED  QTY_TOTAL\n",
       "0  2012/07         4855          22               16       4893\n",
       "1  2012/08         4751          27               13       4791\n",
       "2  2012/09         4689          26               17       4732\n",
       "3  2012/10         4566          21               14       4601\n",
       "4  2012/11         3995          14                1       4010"
      ]
     },
     "execution_count": 48,
     "metadata": {},
     "output_type": "execute_result"
    }
   ],
   "source": [
    "df_injury.head()"
   ]
  },
  {
   "cell_type": "code",
   "execution_count": 49,
   "metadata": {},
   "outputs": [
    {
     "name": "stdout",
     "output_type": "stream",
     "text": [
      "<class 'pandas.core.frame.DataFrame'>\n",
      "Int64Index: 122 entries, 0 to 121\n",
      "Data columns (total 5 columns):\n",
      " #   Column           Non-Null Count  Dtype \n",
      "---  ------           --------------  ----- \n",
      " 0   PERIODO          122 non-null    object\n",
      " 1   QTY_INJURED      122 non-null    int64 \n",
      " 2   QTY_KILLED       122 non-null    int64 \n",
      " 3   QTY_UNSPECIFIED  122 non-null    int64 \n",
      " 4   QTY_TOTAL        122 non-null    int64 \n",
      "dtypes: int64(4), object(1)\n",
      "memory usage: 5.7+ KB\n"
     ]
    }
   ],
   "source": [
    "df_injury.info()"
   ]
  },
  {
   "cell_type": "code",
   "execution_count": 50,
   "metadata": {},
   "outputs": [],
   "source": [
    "df_injury.to_csv('data_monthly_by_injury.csv', sep=',', index=False)"
   ]
  },
  {
   "cell_type": "markdown",
   "metadata": {},
   "source": [
    "# III. OBTENIENDO LA TABLA DE CONTEO DE PERSONAS POR 'PERSON_TYPE'"
   ]
  },
  {
   "cell_type": "code",
   "execution_count": 51,
   "metadata": {},
   "outputs": [],
   "source": [
    "type = vehicle_person_raw.groupby('PERSON_TYPE')"
   ]
  },
  {
   "cell_type": "code",
   "execution_count": 52,
   "metadata": {},
   "outputs": [
    {
     "data": {
      "text/plain": [
       "4"
      ]
     },
     "execution_count": 52,
     "metadata": {},
     "output_type": "execute_result"
    }
   ],
   "source": [
    "len(type)"
   ]
  },
  {
   "cell_type": "code",
   "execution_count": 53,
   "metadata": {},
   "outputs": [
    {
     "data": {
      "text/plain": [
       "PERSON_TYPE\n",
       "Bicyclist            57437\n",
       "Occupant           4607122\n",
       "Other Motorized       4520\n",
       "Pedestrian          109581\n",
       "dtype: int64"
      ]
     },
     "execution_count": 53,
     "metadata": {},
     "output_type": "execute_result"
    }
   ],
   "source": [
    "type.size()"
   ]
  },
  {
   "cell_type": "code",
   "execution_count": 54,
   "metadata": {},
   "outputs": [],
   "source": [
    "bicy = type.get_group('Bicyclist')\n",
    "occu = type.get_group('Occupant')\n",
    "other = type.get_group('Other Motorized')\n",
    "pedes = type.get_group('Pedestrian')"
   ]
  },
  {
   "cell_type": "code",
   "execution_count": 55,
   "metadata": {},
   "outputs": [],
   "source": [
    "df_bicy = bicy.groupby('PERIODO', as_index = False)['UNIQUE_ID'].count()\n",
    "#df_bicy['UNIQUE_ID'].sum()\n",
    "#df_bicy.head()"
   ]
  },
  {
   "cell_type": "code",
   "execution_count": 56,
   "metadata": {},
   "outputs": [],
   "source": [
    "df_occu = occu.groupby('PERIODO', as_index = False)['UNIQUE_ID'].count()\n",
    "#df_occu['UNIQUE_ID'].sum()\n",
    "#df_occu.head()"
   ]
  },
  {
   "cell_type": "code",
   "execution_count": 57,
   "metadata": {},
   "outputs": [],
   "source": [
    "df_other = other.groupby('PERIODO', as_index = False)['UNIQUE_ID'].count()\n",
    "#df_other['UNIQUE_ID'].sum()\n",
    "#df_other.head()"
   ]
  },
  {
   "cell_type": "code",
   "execution_count": 58,
   "metadata": {},
   "outputs": [],
   "source": [
    "df_pedes = pedes.groupby('PERIODO', as_index = False)['UNIQUE_ID'].count()\n",
    "#df_pedes['UNIQUE_ID'].sum()\n",
    "#df_pedes.head()"
   ]
  },
  {
   "cell_type": "code",
   "execution_count": 59,
   "metadata": {},
   "outputs": [],
   "source": [
    "df_bicy.columns.values[1] = 'QTY_BICYCLIST'\n",
    "df_occu.columns.values[1] = 'QTY_OCCUPANT'\n",
    "df_other.columns.values[1] = 'QTY_OTHER_MOTORIZED'\n",
    "df_pedes.columns.values[1] = 'QTY_PEDESTRIAN'"
   ]
  },
  {
   "cell_type": "code",
   "execution_count": 60,
   "metadata": {},
   "outputs": [],
   "source": [
    "df_type = df_bicy.merge(df_occu, on=\"PERIODO\", how=\"left\").merge(df_other, on=\"PERIODO\", how=\"left\").merge(df_pedes, on=\"PERIODO\", how=\"left\")"
   ]
  },
  {
   "cell_type": "code",
   "execution_count": 61,
   "metadata": {},
   "outputs": [
    {
     "data": {
      "text/html": [
       "<div>\n",
       "<style scoped>\n",
       "    .dataframe tbody tr th:only-of-type {\n",
       "        vertical-align: middle;\n",
       "    }\n",
       "\n",
       "    .dataframe tbody tr th {\n",
       "        vertical-align: top;\n",
       "    }\n",
       "\n",
       "    .dataframe thead th {\n",
       "        text-align: right;\n",
       "    }\n",
       "</style>\n",
       "<table border=\"1\" class=\"dataframe\">\n",
       "  <thead>\n",
       "    <tr style=\"text-align: right;\">\n",
       "      <th></th>\n",
       "      <th>PERIODO</th>\n",
       "      <th>QTY_BICYCLIST</th>\n",
       "      <th>QTY_OCCUPANT</th>\n",
       "      <th>QTY_OTHER_MOTORIZED</th>\n",
       "      <th>QTY_PEDESTRIAN</th>\n",
       "    </tr>\n",
       "  </thead>\n",
       "  <tbody>\n",
       "    <tr>\n",
       "      <th>0</th>\n",
       "      <td>2012/07</td>\n",
       "      <td>454</td>\n",
       "      <td>3578</td>\n",
       "      <td>NaN</td>\n",
       "      <td>861</td>\n",
       "    </tr>\n",
       "    <tr>\n",
       "      <th>1</th>\n",
       "      <td>2012/08</td>\n",
       "      <td>509</td>\n",
       "      <td>3417</td>\n",
       "      <td>NaN</td>\n",
       "      <td>865</td>\n",
       "    </tr>\n",
       "    <tr>\n",
       "      <th>2</th>\n",
       "      <td>2012/09</td>\n",
       "      <td>435</td>\n",
       "      <td>3391</td>\n",
       "      <td>NaN</td>\n",
       "      <td>906</td>\n",
       "    </tr>\n",
       "    <tr>\n",
       "      <th>3</th>\n",
       "      <td>2012/10</td>\n",
       "      <td>330</td>\n",
       "      <td>3281</td>\n",
       "      <td>NaN</td>\n",
       "      <td>990</td>\n",
       "    </tr>\n",
       "    <tr>\n",
       "      <th>4</th>\n",
       "      <td>2012/11</td>\n",
       "      <td>277</td>\n",
       "      <td>2688</td>\n",
       "      <td>NaN</td>\n",
       "      <td>1045</td>\n",
       "    </tr>\n",
       "  </tbody>\n",
       "</table>\n",
       "</div>"
      ],
      "text/plain": [
       "   PERIODO  QTY_BICYCLIST  QTY_OCCUPANT  QTY_OTHER_MOTORIZED  QTY_PEDESTRIAN\n",
       "0  2012/07            454          3578                  NaN             861\n",
       "1  2012/08            509          3417                  NaN             865\n",
       "2  2012/09            435          3391                  NaN             906\n",
       "3  2012/10            330          3281                  NaN             990\n",
       "4  2012/11            277          2688                  NaN            1045"
      ]
     },
     "execution_count": 61,
     "metadata": {},
     "output_type": "execute_result"
    }
   ],
   "source": [
    "df_type.head()"
   ]
  },
  {
   "cell_type": "code",
   "execution_count": 62,
   "metadata": {},
   "outputs": [
    {
     "name": "stdout",
     "output_type": "stream",
     "text": [
      "<class 'pandas.core.frame.DataFrame'>\n",
      "Int64Index: 122 entries, 0 to 121\n",
      "Data columns (total 5 columns):\n",
      " #   Column               Non-Null Count  Dtype  \n",
      "---  ------               --------------  -----  \n",
      " 0   PERIODO              122 non-null    object \n",
      " 1   QTY_BICYCLIST        122 non-null    int64  \n",
      " 2   QTY_OCCUPANT         122 non-null    int64  \n",
      " 3   QTY_OTHER_MOTORIZED  18 non-null     float64\n",
      " 4   QTY_PEDESTRIAN       122 non-null    int64  \n",
      "dtypes: float64(1), int64(3), object(1)\n",
      "memory usage: 5.7+ KB\n"
     ]
    }
   ],
   "source": [
    "df_type.info()"
   ]
  },
  {
   "cell_type": "code",
   "execution_count": 63,
   "metadata": {},
   "outputs": [],
   "source": [
    "df_type['QTY_OTHER_MOTORIZED'] = df_type['QTY_OTHER_MOTORIZED'].fillna(0)"
   ]
  },
  {
   "cell_type": "code",
   "execution_count": 64,
   "metadata": {},
   "outputs": [],
   "source": [
    "df_type['QTY_OTHER_MOTORIZED'] = df_type['QTY_OTHER_MOTORIZED'].astype('int64')"
   ]
  },
  {
   "cell_type": "code",
   "execution_count": 65,
   "metadata": {},
   "outputs": [],
   "source": [
    "df_type['QTY_TOTAL'] = df_type['QTY_BICYCLIST'] + df_type['QTY_OCCUPANT'] + df_type['QTY_OTHER_MOTORIZED'] + df_type['QTY_PEDESTRIAN']"
   ]
  },
  {
   "cell_type": "code",
   "execution_count": 66,
   "metadata": {},
   "outputs": [
    {
     "data": {
      "text/html": [
       "<div>\n",
       "<style scoped>\n",
       "    .dataframe tbody tr th:only-of-type {\n",
       "        vertical-align: middle;\n",
       "    }\n",
       "\n",
       "    .dataframe tbody tr th {\n",
       "        vertical-align: top;\n",
       "    }\n",
       "\n",
       "    .dataframe thead th {\n",
       "        text-align: right;\n",
       "    }\n",
       "</style>\n",
       "<table border=\"1\" class=\"dataframe\">\n",
       "  <thead>\n",
       "    <tr style=\"text-align: right;\">\n",
       "      <th></th>\n",
       "      <th>PERIODO</th>\n",
       "      <th>QTY_BICYCLIST</th>\n",
       "      <th>QTY_OCCUPANT</th>\n",
       "      <th>QTY_OTHER_MOTORIZED</th>\n",
       "      <th>QTY_PEDESTRIAN</th>\n",
       "      <th>QTY_TOTAL</th>\n",
       "    </tr>\n",
       "  </thead>\n",
       "  <tbody>\n",
       "    <tr>\n",
       "      <th>0</th>\n",
       "      <td>2012/07</td>\n",
       "      <td>454</td>\n",
       "      <td>3578</td>\n",
       "      <td>0</td>\n",
       "      <td>861</td>\n",
       "      <td>4893</td>\n",
       "    </tr>\n",
       "    <tr>\n",
       "      <th>1</th>\n",
       "      <td>2012/08</td>\n",
       "      <td>509</td>\n",
       "      <td>3417</td>\n",
       "      <td>0</td>\n",
       "      <td>865</td>\n",
       "      <td>4791</td>\n",
       "    </tr>\n",
       "    <tr>\n",
       "      <th>2</th>\n",
       "      <td>2012/09</td>\n",
       "      <td>435</td>\n",
       "      <td>3391</td>\n",
       "      <td>0</td>\n",
       "      <td>906</td>\n",
       "      <td>4732</td>\n",
       "    </tr>\n",
       "    <tr>\n",
       "      <th>3</th>\n",
       "      <td>2012/10</td>\n",
       "      <td>330</td>\n",
       "      <td>3281</td>\n",
       "      <td>0</td>\n",
       "      <td>990</td>\n",
       "      <td>4601</td>\n",
       "    </tr>\n",
       "    <tr>\n",
       "      <th>4</th>\n",
       "      <td>2012/11</td>\n",
       "      <td>277</td>\n",
       "      <td>2688</td>\n",
       "      <td>0</td>\n",
       "      <td>1045</td>\n",
       "      <td>4010</td>\n",
       "    </tr>\n",
       "  </tbody>\n",
       "</table>\n",
       "</div>"
      ],
      "text/plain": [
       "   PERIODO  QTY_BICYCLIST  QTY_OCCUPANT  QTY_OTHER_MOTORIZED  QTY_PEDESTRIAN  \\\n",
       "0  2012/07            454          3578                    0             861   \n",
       "1  2012/08            509          3417                    0             865   \n",
       "2  2012/09            435          3391                    0             906   \n",
       "3  2012/10            330          3281                    0             990   \n",
       "4  2012/11            277          2688                    0            1045   \n",
       "\n",
       "   QTY_TOTAL  \n",
       "0       4893  \n",
       "1       4791  \n",
       "2       4732  \n",
       "3       4601  \n",
       "4       4010  "
      ]
     },
     "execution_count": 66,
     "metadata": {},
     "output_type": "execute_result"
    }
   ],
   "source": [
    "df_type.head()"
   ]
  },
  {
   "cell_type": "code",
   "execution_count": 67,
   "metadata": {},
   "outputs": [
    {
     "name": "stdout",
     "output_type": "stream",
     "text": [
      "<class 'pandas.core.frame.DataFrame'>\n",
      "Int64Index: 122 entries, 0 to 121\n",
      "Data columns (total 6 columns):\n",
      " #   Column               Non-Null Count  Dtype \n",
      "---  ------               --------------  ----- \n",
      " 0   PERIODO              122 non-null    object\n",
      " 1   QTY_BICYCLIST        122 non-null    int64 \n",
      " 2   QTY_OCCUPANT         122 non-null    int64 \n",
      " 3   QTY_OTHER_MOTORIZED  122 non-null    int64 \n",
      " 4   QTY_PEDESTRIAN       122 non-null    int64 \n",
      " 5   QTY_TOTAL            122 non-null    int64 \n",
      "dtypes: int64(5), object(1)\n",
      "memory usage: 6.7+ KB\n"
     ]
    }
   ],
   "source": [
    "df_type.info()"
   ]
  },
  {
   "cell_type": "code",
   "execution_count": 68,
   "metadata": {},
   "outputs": [],
   "source": [
    "df_type.to_csv('data_monthly_by_type.csv', sep=',', index=False)"
   ]
  },
  {
   "cell_type": "markdown",
   "metadata": {},
   "source": [
    "# IV. OBTENIENDO LA TABLA DE CONTEO DE PERSONAS POR 'EMOTIONAL_STATUS'"
   ]
  },
  {
   "cell_type": "code",
   "execution_count": 69,
   "metadata": {},
   "outputs": [],
   "source": [
    "status = vehicle_person_raw.groupby('EMOTIONAL_STATUS')"
   ]
  },
  {
   "cell_type": "code",
   "execution_count": 70,
   "metadata": {},
   "outputs": [
    {
     "data": {
      "text/plain": [
       "8"
      ]
     },
     "execution_count": 70,
     "metadata": {},
     "output_type": "execute_result"
    }
   ],
   "source": [
    "len(status)"
   ]
  },
  {
   "cell_type": "code",
   "execution_count": 71,
   "metadata": {},
   "outputs": [
    {
     "data": {
      "text/plain": [
       "EMOTIONAL_STATUS\n",
       "Apparent Death       1445\n",
       "Conscious          369355\n",
       "Does Not Apply    4382436\n",
       "Incoherent           1524\n",
       "Semiconscious        2280\n",
       "Shock                9397\n",
       "Unconscious          2036\n",
       "Unknown             10187\n",
       "dtype: int64"
      ]
     },
     "execution_count": 71,
     "metadata": {},
     "output_type": "execute_result"
    }
   ],
   "source": [
    "status.size()"
   ]
  },
  {
   "cell_type": "code",
   "execution_count": 72,
   "metadata": {},
   "outputs": [],
   "source": [
    "app_death = status.get_group('Apparent Death')\n",
    "consc = status.get_group('Conscious')\n",
    "not_apply = status.get_group('Does Not Apply')\n",
    "inco = status.get_group('Incoherent')\n",
    "semi_consc = status.get_group('Semiconscious')\n",
    "shock = status.get_group('Shock')\n",
    "unconsc = status.get_group('Unconscious')\n",
    "unkn = status.get_group('Unknown')"
   ]
  },
  {
   "cell_type": "code",
   "execution_count": 73,
   "metadata": {},
   "outputs": [],
   "source": [
    "df_app_death = app_death.groupby('PERIODO', as_index = False)['UNIQUE_ID'].count()\n",
    "#df_app_death['UNIQUE_ID'].sum()\n",
    "#df_app_death.head()"
   ]
  },
  {
   "cell_type": "code",
   "execution_count": 74,
   "metadata": {},
   "outputs": [],
   "source": [
    "df_consc = consc.groupby('PERIODO', as_index = False)['UNIQUE_ID'].count()\n",
    "#df_consc['UNIQUE_ID'].sum()\n",
    "#df_consc.head()"
   ]
  },
  {
   "cell_type": "code",
   "execution_count": 75,
   "metadata": {},
   "outputs": [],
   "source": [
    "df_not_apply = not_apply.groupby('PERIODO', as_index = False)['UNIQUE_ID'].count()\n",
    "#df_not_apply['UNIQUE_ID'].sum()\n",
    "#df_not_apply.head()"
   ]
  },
  {
   "cell_type": "code",
   "execution_count": 76,
   "metadata": {},
   "outputs": [],
   "source": [
    "df_inco = inco.groupby('PERIODO', as_index = False)['UNIQUE_ID'].count()\n",
    "#df_inco['UNIQUE_ID'].sum()\n",
    "#df_inco.head()"
   ]
  },
  {
   "cell_type": "code",
   "execution_count": 77,
   "metadata": {},
   "outputs": [],
   "source": [
    "df_semi_consc = semi_consc.groupby('PERIODO', as_index = False)['UNIQUE_ID'].count()\n",
    "#df_semi_consc['UNIQUE_ID'].sum()\n",
    "#df_semi_consc.head()"
   ]
  },
  {
   "cell_type": "code",
   "execution_count": 78,
   "metadata": {},
   "outputs": [],
   "source": [
    "df_shock = shock.groupby('PERIODO', as_index = False)['UNIQUE_ID'].count()\n",
    "#df_shock['UNIQUE_ID'].sum()\n",
    "#df_shock.head()"
   ]
  },
  {
   "cell_type": "code",
   "execution_count": 79,
   "metadata": {},
   "outputs": [],
   "source": [
    "df_unconsc = unconsc.groupby('PERIODO', as_index = False)['UNIQUE_ID'].count()\n",
    "#df_unconsc['UNIQUE_ID'].sum()\n",
    "#df_unconsc.head()"
   ]
  },
  {
   "cell_type": "code",
   "execution_count": 80,
   "metadata": {},
   "outputs": [],
   "source": [
    "df_unkn = unkn.groupby('PERIODO', as_index = False)['UNIQUE_ID'].count()\n",
    "#df_unkn['UNIQUE_ID'].sum()\n",
    "#df_unkn.head()"
   ]
  },
  {
   "cell_type": "code",
   "execution_count": 81,
   "metadata": {},
   "outputs": [],
   "source": [
    "df_app_death.columns.values[1] = 'QTY_APPARENT_DEATH'\n",
    "df_consc.columns.values[1] = 'QTY_CONSCIOUS'\n",
    "df_not_apply.columns.values[1] = 'QTY_DOES_NOT_APPLY'\n",
    "df_inco.columns.values[1] = 'QTY_INCOHERENT'\n",
    "df_semi_consc.columns.values[1] = 'QTY_SEMICONSCIOUS'\n",
    "df_shock.columns.values[1] = 'QTY_SHOCK'\n",
    "df_unconsc.columns.values[1] = 'QTY_UNCONSCIOUS'\n",
    "df_unkn.columns.values[1] = 'QTY_UNKNOWN'"
   ]
  },
  {
   "cell_type": "code",
   "execution_count": 82,
   "metadata": {},
   "outputs": [],
   "source": [
    "df_status = df_app_death.merge(df_consc, on=\"PERIODO\", how=\"left\").merge(df_not_apply, on=\"PERIODO\", how=\"left\").merge(df_inco, on=\"PERIODO\", how=\"left\").merge(df_semi_consc, on=\"PERIODO\", how=\"left\").merge(df_shock, on=\"PERIODO\", how=\"left\").merge(df_unconsc, on=\"PERIODO\", how=\"left\").merge(df_unkn, on=\"PERIODO\", how=\"left\")"
   ]
  },
  {
   "cell_type": "code",
   "execution_count": 83,
   "metadata": {},
   "outputs": [
    {
     "data": {
      "text/html": [
       "<div>\n",
       "<style scoped>\n",
       "    .dataframe tbody tr th:only-of-type {\n",
       "        vertical-align: middle;\n",
       "    }\n",
       "\n",
       "    .dataframe tbody tr th {\n",
       "        vertical-align: top;\n",
       "    }\n",
       "\n",
       "    .dataframe thead th {\n",
       "        text-align: right;\n",
       "    }\n",
       "</style>\n",
       "<table border=\"1\" class=\"dataframe\">\n",
       "  <thead>\n",
       "    <tr style=\"text-align: right;\">\n",
       "      <th></th>\n",
       "      <th>PERIODO</th>\n",
       "      <th>QTY_APPARENT_DEATH</th>\n",
       "      <th>QTY_CONSCIOUS</th>\n",
       "      <th>QTY_DOES_NOT_APPLY</th>\n",
       "      <th>QTY_INCOHERENT</th>\n",
       "      <th>QTY_SEMICONSCIOUS</th>\n",
       "      <th>QTY_SHOCK</th>\n",
       "      <th>QTY_UNCONSCIOUS</th>\n",
       "      <th>QTY_UNKNOWN</th>\n",
       "    </tr>\n",
       "  </thead>\n",
       "  <tbody>\n",
       "    <tr>\n",
       "      <th>0</th>\n",
       "      <td>2016/03</td>\n",
       "      <td>8</td>\n",
       "      <td>14675</td>\n",
       "      <td>29651</td>\n",
       "      <td>19</td>\n",
       "      <td>26</td>\n",
       "      <td>115</td>\n",
       "      <td>25</td>\n",
       "      <td>470</td>\n",
       "    </tr>\n",
       "    <tr>\n",
       "      <th>1</th>\n",
       "      <td>2016/04</td>\n",
       "      <td>16</td>\n",
       "      <td>20624</td>\n",
       "      <td>55709</td>\n",
       "      <td>33</td>\n",
       "      <td>44</td>\n",
       "      <td>167</td>\n",
       "      <td>44</td>\n",
       "      <td>375</td>\n",
       "    </tr>\n",
       "    <tr>\n",
       "      <th>2</th>\n",
       "      <td>2016/05</td>\n",
       "      <td>11</td>\n",
       "      <td>5323</td>\n",
       "      <td>81488</td>\n",
       "      <td>22</td>\n",
       "      <td>39</td>\n",
       "      <td>79</td>\n",
       "      <td>28</td>\n",
       "      <td>194</td>\n",
       "    </tr>\n",
       "    <tr>\n",
       "      <th>3</th>\n",
       "      <td>2016/06</td>\n",
       "      <td>24</td>\n",
       "      <td>5323</td>\n",
       "      <td>83639</td>\n",
       "      <td>24</td>\n",
       "      <td>43</td>\n",
       "      <td>102</td>\n",
       "      <td>45</td>\n",
       "      <td>176</td>\n",
       "    </tr>\n",
       "    <tr>\n",
       "      <th>4</th>\n",
       "      <td>2016/07</td>\n",
       "      <td>20</td>\n",
       "      <td>5385</td>\n",
       "      <td>80059</td>\n",
       "      <td>14</td>\n",
       "      <td>37</td>\n",
       "      <td>120</td>\n",
       "      <td>34</td>\n",
       "      <td>161</td>\n",
       "    </tr>\n",
       "  </tbody>\n",
       "</table>\n",
       "</div>"
      ],
      "text/plain": [
       "   PERIODO  QTY_APPARENT_DEATH  QTY_CONSCIOUS  QTY_DOES_NOT_APPLY  \\\n",
       "0  2016/03                   8          14675               29651   \n",
       "1  2016/04                  16          20624               55709   \n",
       "2  2016/05                  11           5323               81488   \n",
       "3  2016/06                  24           5323               83639   \n",
       "4  2016/07                  20           5385               80059   \n",
       "\n",
       "   QTY_INCOHERENT  QTY_SEMICONSCIOUS  QTY_SHOCK  QTY_UNCONSCIOUS  QTY_UNKNOWN  \n",
       "0              19                 26        115               25          470  \n",
       "1              33                 44        167               44          375  \n",
       "2              22                 39         79               28          194  \n",
       "3              24                 43        102               45          176  \n",
       "4              14                 37        120               34          161  "
      ]
     },
     "execution_count": 83,
     "metadata": {},
     "output_type": "execute_result"
    }
   ],
   "source": [
    "df_status.head()"
   ]
  },
  {
   "cell_type": "code",
   "execution_count": 84,
   "metadata": {},
   "outputs": [
    {
     "name": "stdout",
     "output_type": "stream",
     "text": [
      "<class 'pandas.core.frame.DataFrame'>\n",
      "Int64Index: 78 entries, 0 to 77\n",
      "Data columns (total 9 columns):\n",
      " #   Column              Non-Null Count  Dtype \n",
      "---  ------              --------------  ----- \n",
      " 0   PERIODO             78 non-null     object\n",
      " 1   QTY_APPARENT_DEATH  78 non-null     int64 \n",
      " 2   QTY_CONSCIOUS       78 non-null     int64 \n",
      " 3   QTY_DOES_NOT_APPLY  78 non-null     int64 \n",
      " 4   QTY_INCOHERENT      78 non-null     int64 \n",
      " 5   QTY_SEMICONSCIOUS   78 non-null     int64 \n",
      " 6   QTY_SHOCK           78 non-null     int64 \n",
      " 7   QTY_UNCONSCIOUS     78 non-null     int64 \n",
      " 8   QTY_UNKNOWN         78 non-null     int64 \n",
      "dtypes: int64(8), object(1)\n",
      "memory usage: 6.1+ KB\n"
     ]
    }
   ],
   "source": [
    "df_status.info()"
   ]
  },
  {
   "cell_type": "code",
   "execution_count": 85,
   "metadata": {},
   "outputs": [],
   "source": [
    "df_status['QTY_TOTAL'] = df_status['QTY_APPARENT_DEATH'] + df_status['QTY_CONSCIOUS'] + df_status['QTY_DOES_NOT_APPLY'] + df_status['QTY_INCOHERENT'] + df_status['QTY_SEMICONSCIOUS'] + df_status['QTY_SHOCK'] + df_status['QTY_UNCONSCIOUS'] + df_status['QTY_UNKNOWN']"
   ]
  },
  {
   "cell_type": "code",
   "execution_count": 86,
   "metadata": {},
   "outputs": [
    {
     "data": {
      "text/html": [
       "<div>\n",
       "<style scoped>\n",
       "    .dataframe tbody tr th:only-of-type {\n",
       "        vertical-align: middle;\n",
       "    }\n",
       "\n",
       "    .dataframe tbody tr th {\n",
       "        vertical-align: top;\n",
       "    }\n",
       "\n",
       "    .dataframe thead th {\n",
       "        text-align: right;\n",
       "    }\n",
       "</style>\n",
       "<table border=\"1\" class=\"dataframe\">\n",
       "  <thead>\n",
       "    <tr style=\"text-align: right;\">\n",
       "      <th></th>\n",
       "      <th>PERIODO</th>\n",
       "      <th>QTY_APPARENT_DEATH</th>\n",
       "      <th>QTY_CONSCIOUS</th>\n",
       "      <th>QTY_DOES_NOT_APPLY</th>\n",
       "      <th>QTY_INCOHERENT</th>\n",
       "      <th>QTY_SEMICONSCIOUS</th>\n",
       "      <th>QTY_SHOCK</th>\n",
       "      <th>QTY_UNCONSCIOUS</th>\n",
       "      <th>QTY_UNKNOWN</th>\n",
       "      <th>QTY_TOTAL</th>\n",
       "    </tr>\n",
       "  </thead>\n",
       "  <tbody>\n",
       "    <tr>\n",
       "      <th>0</th>\n",
       "      <td>2016/03</td>\n",
       "      <td>8</td>\n",
       "      <td>14675</td>\n",
       "      <td>29651</td>\n",
       "      <td>19</td>\n",
       "      <td>26</td>\n",
       "      <td>115</td>\n",
       "      <td>25</td>\n",
       "      <td>470</td>\n",
       "      <td>44989</td>\n",
       "    </tr>\n",
       "    <tr>\n",
       "      <th>1</th>\n",
       "      <td>2016/04</td>\n",
       "      <td>16</td>\n",
       "      <td>20624</td>\n",
       "      <td>55709</td>\n",
       "      <td>33</td>\n",
       "      <td>44</td>\n",
       "      <td>167</td>\n",
       "      <td>44</td>\n",
       "      <td>375</td>\n",
       "      <td>77012</td>\n",
       "    </tr>\n",
       "    <tr>\n",
       "      <th>2</th>\n",
       "      <td>2016/05</td>\n",
       "      <td>11</td>\n",
       "      <td>5323</td>\n",
       "      <td>81488</td>\n",
       "      <td>22</td>\n",
       "      <td>39</td>\n",
       "      <td>79</td>\n",
       "      <td>28</td>\n",
       "      <td>194</td>\n",
       "      <td>87184</td>\n",
       "    </tr>\n",
       "    <tr>\n",
       "      <th>3</th>\n",
       "      <td>2016/06</td>\n",
       "      <td>24</td>\n",
       "      <td>5323</td>\n",
       "      <td>83639</td>\n",
       "      <td>24</td>\n",
       "      <td>43</td>\n",
       "      <td>102</td>\n",
       "      <td>45</td>\n",
       "      <td>176</td>\n",
       "      <td>89376</td>\n",
       "    </tr>\n",
       "    <tr>\n",
       "      <th>4</th>\n",
       "      <td>2016/07</td>\n",
       "      <td>20</td>\n",
       "      <td>5385</td>\n",
       "      <td>80059</td>\n",
       "      <td>14</td>\n",
       "      <td>37</td>\n",
       "      <td>120</td>\n",
       "      <td>34</td>\n",
       "      <td>161</td>\n",
       "      <td>85830</td>\n",
       "    </tr>\n",
       "  </tbody>\n",
       "</table>\n",
       "</div>"
      ],
      "text/plain": [
       "   PERIODO  QTY_APPARENT_DEATH  QTY_CONSCIOUS  QTY_DOES_NOT_APPLY  \\\n",
       "0  2016/03                   8          14675               29651   \n",
       "1  2016/04                  16          20624               55709   \n",
       "2  2016/05                  11           5323               81488   \n",
       "3  2016/06                  24           5323               83639   \n",
       "4  2016/07                  20           5385               80059   \n",
       "\n",
       "   QTY_INCOHERENT  QTY_SEMICONSCIOUS  QTY_SHOCK  QTY_UNCONSCIOUS  QTY_UNKNOWN  \\\n",
       "0              19                 26        115               25          470   \n",
       "1              33                 44        167               44          375   \n",
       "2              22                 39         79               28          194   \n",
       "3              24                 43        102               45          176   \n",
       "4              14                 37        120               34          161   \n",
       "\n",
       "   QTY_TOTAL  \n",
       "0      44989  \n",
       "1      77012  \n",
       "2      87184  \n",
       "3      89376  \n",
       "4      85830  "
      ]
     },
     "execution_count": 86,
     "metadata": {},
     "output_type": "execute_result"
    }
   ],
   "source": [
    "df_status.head()"
   ]
  },
  {
   "cell_type": "code",
   "execution_count": 87,
   "metadata": {},
   "outputs": [
    {
     "name": "stdout",
     "output_type": "stream",
     "text": [
      "<class 'pandas.core.frame.DataFrame'>\n",
      "Int64Index: 78 entries, 0 to 77\n",
      "Data columns (total 10 columns):\n",
      " #   Column              Non-Null Count  Dtype \n",
      "---  ------              --------------  ----- \n",
      " 0   PERIODO             78 non-null     object\n",
      " 1   QTY_APPARENT_DEATH  78 non-null     int64 \n",
      " 2   QTY_CONSCIOUS       78 non-null     int64 \n",
      " 3   QTY_DOES_NOT_APPLY  78 non-null     int64 \n",
      " 4   QTY_INCOHERENT      78 non-null     int64 \n",
      " 5   QTY_SEMICONSCIOUS   78 non-null     int64 \n",
      " 6   QTY_SHOCK           78 non-null     int64 \n",
      " 7   QTY_UNCONSCIOUS     78 non-null     int64 \n",
      " 8   QTY_UNKNOWN         78 non-null     int64 \n",
      " 9   QTY_TOTAL           78 non-null     int64 \n",
      "dtypes: int64(9), object(1)\n",
      "memory usage: 6.7+ KB\n"
     ]
    }
   ],
   "source": [
    "df_status.info()"
   ]
  },
  {
   "cell_type": "code",
   "execution_count": 88,
   "metadata": {},
   "outputs": [],
   "source": [
    "df_status.to_csv('data_monthly_by_status.csv', sep=',', index=False)"
   ]
  }
 ],
 "metadata": {
  "kernelspec": {
   "display_name": "Python 3.10.5 64-bit",
   "language": "python",
   "name": "python3"
  },
  "language_info": {
   "codemirror_mode": {
    "name": "ipython",
    "version": 3
   },
   "file_extension": ".py",
   "mimetype": "text/x-python",
   "name": "python",
   "nbconvert_exporter": "python",
   "pygments_lexer": "ipython3",
   "version": "3.10.5"
  },
  "orig_nbformat": 4,
  "vscode": {
   "interpreter": {
    "hash": "2662dc78f6b43a79706dc0dcf78b7e7b993f28cb3da5f2e9fa55122a788f3088"
   }
  }
 },
 "nbformat": 4,
 "nbformat_minor": 2
}
